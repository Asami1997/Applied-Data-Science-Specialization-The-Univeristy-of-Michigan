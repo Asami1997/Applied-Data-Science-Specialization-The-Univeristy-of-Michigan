{
  "nbformat": 4,
  "nbformat_minor": 0,
  "metadata": {
    "colab": {
      "name": "Week1.ipynb",
      "provenance": [],
      "collapsed_sections": [],
      "mount_file_id": "https://github.com/Asami1997/Applied-Data-Science-Specialization-The-University-of-Michigan/blob/master/Week1.ipynb",
      "authorship_tag": "ABX9TyPRDOdP6drdbuvQj0eS6HcW",
      "include_colab_link": true
    },
    "kernelspec": {
      "name": "python3",
      "display_name": "Python 3"
    }
  },
  "cells": [
    {
      "cell_type": "markdown",
      "metadata": {
        "id": "view-in-github",
        "colab_type": "text"
      },
      "source": [
        "<a href=\"https://colab.research.google.com/github/Asami1997/Applied-Data-Science-Specialization-The-University-of-Michigan/blob/master/Week1.ipynb\" target=\"_parent\"><img src=\"https://colab.research.google.com/assets/colab-badge.svg\" alt=\"Open In Colab\"/></a>"
      ]
    },
    {
      "cell_type": "code",
      "metadata": {
        "id": "IzRR6LeG074x",
        "colab_type": "code",
        "colab": {}
      },
      "source": [
        "def addNumbers(x,y):\n",
        "  return x+y"
      ],
      "execution_count": 0,
      "outputs": []
    },
    {
      "cell_type": "code",
      "metadata": {
        "id": "TSg9MrhG4DCw",
        "colab_type": "code",
        "outputId": "68cefdae-d328-4be6-f256-2fa931f1bad1",
        "colab": {
          "base_uri": "https://localhost:8080/",
          "height": 36
        }
      },
      "source": [
        "addNumbers(2,3)"
      ],
      "execution_count": 0,
      "outputs": [
        {
          "output_type": "execute_result",
          "data": {
            "text/plain": [
              "5"
            ]
          },
          "metadata": {
            "tags": []
          },
          "execution_count": 5
        }
      ]
    },
    {
      "cell_type": "code",
      "metadata": {
        "id": "Sy0fvkXW7KPt",
        "colab_type": "code",
        "colab": {}
      },
      "source": [
        "def addNumbersOptional(x, y, z = None):\n",
        "  if (z == None):\n",
        "    return x+y\n",
        "  else:\n",
        "    return x+y+z"
      ],
      "execution_count": 0,
      "outputs": []
    },
    {
      "cell_type": "code",
      "metadata": {
        "id": "LhV3IxNl7yrs",
        "colab_type": "code",
        "outputId": "629062dc-1b21-4c51-f01e-fc07d930cc0c",
        "colab": {
          "base_uri": "https://localhost:8080/",
          "height": 36
        }
      },
      "source": [
        "addNumbersOptional(1,2,3)"
      ],
      "execution_count": 0,
      "outputs": [
        {
          "output_type": "execute_result",
          "data": {
            "text/plain": [
              "6"
            ]
          },
          "metadata": {
            "tags": []
          },
          "execution_count": 7
        }
      ]
    },
    {
      "cell_type": "code",
      "metadata": {
        "id": "yt3Tfs0d71X6",
        "colab_type": "code",
        "outputId": "1a60eea8-3cea-47ae-ae8d-9c99b7e51648",
        "colab": {
          "base_uri": "https://localhost:8080/",
          "height": 36
        }
      },
      "source": [
        "addNumbersOptional(3,3)"
      ],
      "execution_count": 0,
      "outputs": [
        {
          "output_type": "execute_result",
          "data": {
            "text/plain": [
              "6"
            ]
          },
          "metadata": {
            "tags": []
          },
          "execution_count": 8
        }
      ]
    },
    {
      "cell_type": "code",
      "metadata": {
        "id": "0Qz_EKwe77jR",
        "colab_type": "code",
        "outputId": "4ed84f33-cdca-4048-c764-0a5b47fe5511",
        "colab": {
          "base_uri": "https://localhost:8080/",
          "height": 36
        }
      },
      "source": [
        "def addNumbersOverLoaded(x, y, kind='sub'):\n",
        "  if (kind == 'add'):\n",
        "    return x+y\n",
        "  else:\n",
        "    return x-y\n",
        "\n",
        "addNumbersOverLoaded(3,4,kind = 'add')"
      ],
      "execution_count": 0,
      "outputs": [
        {
          "output_type": "execute_result",
          "data": {
            "text/plain": [
              "7"
            ]
          },
          "metadata": {
            "tags": []
          },
          "execution_count": 10
        }
      ]
    },
    {
      "cell_type": "code",
      "metadata": {
        "id": "wFSK2HB6AiMb",
        "colab_type": "code",
        "outputId": "aa22077d-9510-47c1-dcdc-877e2ba70d9f",
        "colab": {
          "base_uri": "https://localhost:8080/",
          "height": 36
        }
      },
      "source": [
        "type('this is a string')"
      ],
      "execution_count": 0,
      "outputs": [
        {
          "output_type": "execute_result",
          "data": {
            "text/plain": [
              "str"
            ]
          },
          "metadata": {
            "tags": []
          },
          "execution_count": 12
        }
      ]
    },
    {
      "cell_type": "code",
      "metadata": {
        "id": "Ehih8riYKYjV",
        "colab_type": "code",
        "colab": {}
      },
      "source": [
        "x = (1,1.3,'string')"
      ],
      "execution_count": 0,
      "outputs": []
    },
    {
      "cell_type": "code",
      "metadata": {
        "id": "vTVhoVXXKm6V",
        "colab_type": "code",
        "outputId": "5a91f992-e515-4e74-caf2-08559ac50985",
        "colab": {
          "base_uri": "https://localhost:8080/",
          "height": 36
        }
      },
      "source": [
        "x"
      ],
      "execution_count": 0,
      "outputs": [
        {
          "output_type": "execute_result",
          "data": {
            "text/plain": [
              "(1, 1.3, 'string')"
            ]
          },
          "metadata": {
            "tags": []
          },
          "execution_count": 14
        }
      ]
    },
    {
      "cell_type": "code",
      "metadata": {
        "id": "xRN8EhY8KnhC",
        "colab_type": "code",
        "colab": {}
      },
      "source": [
        "y = [1,'string',2]"
      ],
      "execution_count": 0,
      "outputs": []
    },
    {
      "cell_type": "code",
      "metadata": {
        "id": "OgGc3hrjLDlN",
        "colab_type": "code",
        "outputId": "5180b141-e6ad-46a3-ef82-1f16691aea7d",
        "colab": {
          "base_uri": "https://localhost:8080/",
          "height": 36
        }
      },
      "source": [
        "y"
      ],
      "execution_count": 0,
      "outputs": [
        {
          "output_type": "execute_result",
          "data": {
            "text/plain": [
              "[1, 'string', 2]"
            ]
          },
          "metadata": {
            "tags": []
          },
          "execution_count": 17
        }
      ]
    },
    {
      "cell_type": "code",
      "metadata": {
        "id": "qO2uilBsLGlV",
        "colab_type": "code",
        "colab": {}
      },
      "source": [
        "y.append(3)"
      ],
      "execution_count": 0,
      "outputs": []
    },
    {
      "cell_type": "code",
      "metadata": {
        "id": "vWD3XtsVLJtO",
        "colab_type": "code",
        "outputId": "9f1db703-a3f1-4383-e564-254ca31a448d",
        "colab": {
          "base_uri": "https://localhost:8080/",
          "height": 36
        }
      },
      "source": [
        "y"
      ],
      "execution_count": 0,
      "outputs": [
        {
          "output_type": "execute_result",
          "data": {
            "text/plain": [
              "[1, 'string', 2, 3]"
            ]
          },
          "metadata": {
            "tags": []
          },
          "execution_count": 19
        }
      ]
    },
    {
      "cell_type": "code",
      "metadata": {
        "id": "FYjIDCKELK2V",
        "colab_type": "code",
        "outputId": "ca8156ca-720e-4969-c9d1-5dfb168af3bd",
        "colab": {
          "base_uri": "https://localhost:8080/",
          "height": 173
        }
      },
      "source": [
        "y[4]"
      ],
      "execution_count": 0,
      "outputs": [
        {
          "output_type": "error",
          "ename": "IndexError",
          "evalue": "ignored",
          "traceback": [
            "\u001b[0;31m---------------------------------------------------------------------------\u001b[0m",
            "\u001b[0;31mIndexError\u001b[0m                                Traceback (most recent call last)",
            "\u001b[0;32m<ipython-input-20-5f31d1a0a290>\u001b[0m in \u001b[0;36m<module>\u001b[0;34m()\u001b[0m\n\u001b[0;32m----> 1\u001b[0;31m \u001b[0my\u001b[0m\u001b[0;34m[\u001b[0m\u001b[0;36m4\u001b[0m\u001b[0;34m]\u001b[0m\u001b[0;34m\u001b[0m\u001b[0;34m\u001b[0m\u001b[0m\n\u001b[0m",
            "\u001b[0;31mIndexError\u001b[0m: list index out of range"
          ]
        }
      ]
    },
    {
      "cell_type": "code",
      "metadata": {
        "id": "WCSWcgGiLMeN",
        "colab_type": "code",
        "outputId": "21b1d6ce-5f5d-4c25-b4c1-8d30f7cfd564",
        "colab": {
          "base_uri": "https://localhost:8080/",
          "height": 36
        }
      },
      "source": [
        "y[2]"
      ],
      "execution_count": 0,
      "outputs": [
        {
          "output_type": "execute_result",
          "data": {
            "text/plain": [
              "2"
            ]
          },
          "metadata": {
            "tags": []
          },
          "execution_count": 21
        }
      ]
    },
    {
      "cell_type": "code",
      "metadata": {
        "id": "j_4pHUL1LOlv",
        "colab_type": "code",
        "colab": {}
      },
      "source": [
        "y[2] = 4"
      ],
      "execution_count": 0,
      "outputs": []
    },
    {
      "cell_type": "code",
      "metadata": {
        "id": "N_5zW_MKLQ1M",
        "colab_type": "code",
        "outputId": "736bfb81-920e-4615-c3a9-2d2492e8a2cd",
        "colab": {
          "base_uri": "https://localhost:8080/",
          "height": 36
        }
      },
      "source": [
        "y"
      ],
      "execution_count": 0,
      "outputs": [
        {
          "output_type": "execute_result",
          "data": {
            "text/plain": [
              "[1, 'string', 4, 3]"
            ]
          },
          "metadata": {
            "tags": []
          },
          "execution_count": 23
        }
      ]
    },
    {
      "cell_type": "code",
      "metadata": {
        "id": "sHAN0vodLRXN",
        "colab_type": "code",
        "outputId": "fa78855c-26e7-462a-dc0f-e4293362e337",
        "colab": {
          "base_uri": "https://localhost:8080/",
          "height": 91
        }
      },
      "source": [
        "for item in y:\n",
        "  print(item)"
      ],
      "execution_count": 0,
      "outputs": [
        {
          "output_type": "stream",
          "text": [
            "1\n",
            "string\n",
            "4\n",
            "3\n"
          ],
          "name": "stdout"
        }
      ]
    },
    {
      "cell_type": "markdown",
      "metadata": {
        "id": "C2ui9lzfMJ-e",
        "colab_type": "text"
      },
      "source": [
        "concatinating lists"
      ]
    },
    {
      "cell_type": "code",
      "metadata": {
        "id": "xMpt9bnkMOgZ",
        "colab_type": "code",
        "outputId": "bc782cd9-28eb-4674-fda8-5c11886f3261",
        "colab": {
          "base_uri": "https://localhost:8080/",
          "height": 36
        }
      },
      "source": [
        "[1,2,3,4] + [5,6,6,8]"
      ],
      "execution_count": 0,
      "outputs": [
        {
          "output_type": "execute_result",
          "data": {
            "text/plain": [
              "[1, 2, 3, 4, 5, 6, 6, 8]"
            ]
          },
          "metadata": {
            "tags": []
          },
          "execution_count": 25
        }
      ]
    },
    {
      "cell_type": "markdown",
      "metadata": {
        "id": "h7KR6wqYM5da",
        "colab_type": "text"
      },
      "source": [
        "Repeating a value"
      ]
    },
    {
      "cell_type": "code",
      "metadata": {
        "id": "XwE73HlkM71D",
        "colab_type": "code",
        "outputId": "442fdce4-fe8e-4175-fee6-98724fc867df",
        "colab": {
          "base_uri": "https://localhost:8080/",
          "height": 36
        }
      },
      "source": [
        "[3] * 2"
      ],
      "execution_count": 13,
      "outputs": [
        {
          "output_type": "execute_result",
          "data": {
            "text/plain": [
              "[3, 3]"
            ]
          },
          "metadata": {
            "tags": []
          },
          "execution_count": 13
        }
      ]
    },
    {
      "cell_type": "markdown",
      "metadata": {
        "id": "4NkTB3yfNPzy",
        "colab_type": "text"
      },
      "source": [
        "\n",
        "\n",
        "```\n",
        "# This is formatted as code\n",
        "```\n",
        "\n",
        "Check for set membership ( returns boolean )"
      ]
    },
    {
      "cell_type": "code",
      "metadata": {
        "id": "plJmTAX2NSOa",
        "colab_type": "code",
        "outputId": "519f48e2-7ef7-43f1-8844-54278e989a91",
        "colab": {
          "base_uri": "https://localhost:8080/",
          "height": 36
        }
      },
      "source": [
        "1 in [1,3,4,5]"
      ],
      "execution_count": 0,
      "outputs": [
        {
          "output_type": "execute_result",
          "data": {
            "text/plain": [
              "True"
            ]
          },
          "metadata": {
            "tags": []
          },
          "execution_count": 27
        }
      ]
    },
    {
      "cell_type": "markdown",
      "metadata": {
        "id": "vitASnhatj9O",
        "colab_type": "text"
      },
      "source": [
        "Slicing"
      ]
    },
    {
      "cell_type": "code",
      "metadata": {
        "id": "Uh0rl4udtlcS",
        "colab_type": "code",
        "colab": {}
      },
      "source": [
        "x = [1,2,3,4,5]"
      ],
      "execution_count": 0,
      "outputs": []
    },
    {
      "cell_type": "code",
      "metadata": {
        "id": "6j-BAH6Xtt4e",
        "colab_type": "code",
        "outputId": "25d9add7-847f-416c-dd62-e9dc0fd483c5",
        "colab": {
          "base_uri": "https://localhost:8080/",
          "height": 36
        }
      },
      "source": [
        "x[1:2]"
      ],
      "execution_count": 0,
      "outputs": [
        {
          "output_type": "execute_result",
          "data": {
            "text/plain": [
              "[2]"
            ]
          },
          "metadata": {
            "tags": []
          },
          "execution_count": 2
        }
      ]
    },
    {
      "cell_type": "code",
      "metadata": {
        "id": "UAf4ud8Tt0no",
        "colab_type": "code",
        "outputId": "5f9b2d01-be04-4dd1-cb58-d053e028a78e",
        "colab": {
          "base_uri": "https://localhost:8080/",
          "height": 36
        }
      },
      "source": [
        "x[2:]"
      ],
      "execution_count": 0,
      "outputs": [
        {
          "output_type": "execute_result",
          "data": {
            "text/plain": [
              "[3, 4, 5]"
            ]
          },
          "metadata": {
            "tags": []
          },
          "execution_count": 3
        }
      ]
    },
    {
      "cell_type": "code",
      "metadata": {
        "id": "4svF56YJt8X9",
        "colab_type": "code",
        "outputId": "c30d3cff-486f-4621-f023-8759e17dfb50",
        "colab": {
          "base_uri": "https://localhost:8080/",
          "height": 36
        }
      },
      "source": [
        "x[2:5]"
      ],
      "execution_count": 0,
      "outputs": [
        {
          "output_type": "execute_result",
          "data": {
            "text/plain": [
              "[3, 4, 5]"
            ]
          },
          "metadata": {
            "tags": []
          },
          "execution_count": 4
        }
      ]
    },
    {
      "cell_type": "code",
      "metadata": {
        "id": "3xdaHd58uCkm",
        "colab_type": "code",
        "outputId": "452a1ade-8a77-4fc4-c38d-d150fa8b89a5",
        "colab": {
          "base_uri": "https://localhost:8080/",
          "height": 36
        }
      },
      "source": [
        "x[2:4]"
      ],
      "execution_count": 0,
      "outputs": [
        {
          "output_type": "execute_result",
          "data": {
            "text/plain": [
              "[3, 4]"
            ]
          },
          "metadata": {
            "tags": []
          },
          "execution_count": 5
        }
      ]
    },
    {
      "cell_type": "code",
      "metadata": {
        "id": "BilmvqXluKI5",
        "colab_type": "code",
        "outputId": "69340f81-40a8-4be0-c797-6cc1d379fa3f",
        "colab": {
          "base_uri": "https://localhost:8080/",
          "height": 36
        }
      },
      "source": [
        "x[2:6]"
      ],
      "execution_count": 0,
      "outputs": [
        {
          "output_type": "execute_result",
          "data": {
            "text/plain": [
              "[3, 4, 5]"
            ]
          },
          "metadata": {
            "tags": []
          },
          "execution_count": 6
        }
      ]
    },
    {
      "cell_type": "code",
      "metadata": {
        "id": "D4ew16vMuN8L",
        "colab_type": "code",
        "colab": {}
      },
      "source": [
        "firstName = \"Ahmad\"\n",
        "lastName  = \"Hussein\"\n",
        "fullName = firstName + lastName"
      ],
      "execution_count": 0,
      "outputs": []
    },
    {
      "cell_type": "code",
      "metadata": {
        "id": "buIP-i7Hv5tQ",
        "colab_type": "code",
        "outputId": "376b52f9-6384-4482-d626-55d181ab5f9b",
        "colab": {
          "base_uri": "https://localhost:8080/",
          "height": 36
        }
      },
      "source": [
        "fullName"
      ],
      "execution_count": 0,
      "outputs": [
        {
          "output_type": "execute_result",
          "data": {
            "text/plain": [
              "'AhmadHussein'"
            ]
          },
          "metadata": {
            "tags": []
          },
          "execution_count": 8
        }
      ]
    },
    {
      "cell_type": "code",
      "metadata": {
        "id": "zvmz9r4lv7oh",
        "colab_type": "code",
        "outputId": "b45613d9-2f16-4743-e2ae-d1a887661ea1",
        "colab": {
          "base_uri": "https://localhost:8080/",
          "height": 36
        }
      },
      "source": [
        "firstName * 5"
      ],
      "execution_count": 0,
      "outputs": [
        {
          "output_type": "execute_result",
          "data": {
            "text/plain": [
              "'AhmadAhmadAhmadAhmadAhmad'"
            ]
          },
          "metadata": {
            "tags": []
          },
          "execution_count": 9
        }
      ]
    },
    {
      "cell_type": "markdown",
      "metadata": {
        "id": "E_rHpm0YxmwN",
        "colab_type": "text"
      },
      "source": [
        "Split on white spaces then return the first element in the new list"
      ]
    },
    {
      "cell_type": "code",
      "metadata": {
        "id": "qnsrpHAjv-ep",
        "colab_type": "code",
        "outputId": "167ac46c-38ec-4ba4-8862-820a82f51bca",
        "colab": {
          "base_uri": "https://localhost:8080/",
          "height": 36
        }
      },
      "source": [
        "firstName = \"Ahmad Sami Hussein\".split(\" \")[0]\n",
        "firstName"
      ],
      "execution_count": 0,
      "outputs": [
        {
          "output_type": "execute_result",
          "data": {
            "text/plain": [
              "'Ahmad'"
            ]
          },
          "metadata": {
            "tags": []
          },
          "execution_count": 11
        }
      ]
    },
    {
      "cell_type": "code",
      "metadata": {
        "id": "plLn6JabaeC6",
        "colab_type": "code",
        "colab": {}
      },
      "source": [
        "dictionary1 = {'name' : \"ahmad\",\"sami\" : \"sami@gmail.com\"}"
      ],
      "execution_count": 0,
      "outputs": []
    },
    {
      "cell_type": "code",
      "metadata": {
        "id": "qDeYkd3Oa6Ct",
        "colab_type": "code",
        "colab": {
          "base_uri": "https://localhost:8080/",
          "height": 174
        },
        "outputId": "52f7d534-493f-42b5-d124-74df1bc89489"
      },
      "source": [
        "dictionary1[0]"
      ],
      "execution_count": 16,
      "outputs": [
        {
          "output_type": "error",
          "ename": "KeyError",
          "evalue": "ignored",
          "traceback": [
            "\u001b[0;31m---------------------------------------------------------------------------\u001b[0m",
            "\u001b[0;31mKeyError\u001b[0m                                  Traceback (most recent call last)",
            "\u001b[0;32m<ipython-input-16-f956d40a7bed>\u001b[0m in \u001b[0;36m<module>\u001b[0;34m()\u001b[0m\n\u001b[0;32m----> 1\u001b[0;31m \u001b[0mdictionary1\u001b[0m\u001b[0;34m[\u001b[0m\u001b[0;36m0\u001b[0m\u001b[0;34m]\u001b[0m\u001b[0;34m\u001b[0m\u001b[0;34m\u001b[0m\u001b[0m\n\u001b[0m",
            "\u001b[0;31mKeyError\u001b[0m: 0"
          ]
        }
      ]
    },
    {
      "cell_type": "code",
      "metadata": {
        "id": "v-BBQr5vxUss",
        "colab_type": "code",
        "colab": {}
      },
      "source": [
        "emailsDictionary = {'Ahmad' : \"asami1997@gmaill.com\", 'Jhon' : \"jhon@gmail.com\"}"
      ],
      "execution_count": 0,
      "outputs": []
    },
    {
      "cell_type": "code",
      "metadata": {
        "id": "UigxMBc9yrqk",
        "colab_type": "code",
        "outputId": "694707e1-5379-43f6-ea12-274803042eda",
        "colab": {
          "base_uri": "https://localhost:8080/",
          "height": 36
        }
      },
      "source": [
        "emailsDictionary['Ahmad']"
      ],
      "execution_count": 0,
      "outputs": [
        {
          "output_type": "execute_result",
          "data": {
            "text/plain": [
              "'asami1997@gmaill.com'"
            ]
          },
          "metadata": {
            "tags": []
          },
          "execution_count": 13
        }
      ]
    },
    {
      "cell_type": "code",
      "metadata": {
        "id": "qWxnbGa-01wp",
        "colab_type": "code",
        "outputId": "cf372045-1871-4283-80b4-8635c27dd6a8",
        "colab": {
          "base_uri": "https://localhost:8080/",
          "height": 54
        }
      },
      "source": [
        "for key in emailsDictionary.keys():\n",
        "  print(key)"
      ],
      "execution_count": 0,
      "outputs": [
        {
          "output_type": "stream",
          "text": [
            "Ahmad\n",
            "Jhon\n"
          ],
          "name": "stdout"
        }
      ]
    },
    {
      "cell_type": "code",
      "metadata": {
        "id": "FSMYDPpq099K",
        "colab_type": "code",
        "outputId": "d59266ab-d2e5-49ca-aece-64147951867b",
        "colab": {
          "base_uri": "https://localhost:8080/",
          "height": 92
        }
      },
      "source": [
        "for name,email in emailsDictionary.items():\n",
        "  print(name)\n",
        "  print(email)"
      ],
      "execution_count": 0,
      "outputs": [
        {
          "output_type": "stream",
          "text": [
            "Ahmad\n",
            "asami1997@gmaill.com\n",
            "Jhon\n",
            "jhon@gmail.com\n"
          ],
          "name": "stdout"
        }
      ]
    },
    {
      "cell_type": "code",
      "metadata": {
        "id": "uZt2flGp1M18",
        "colab_type": "code",
        "colab": {}
      },
      "source": [
        "x = (\"Ahmad\",\"Hussein\",\"asami1997@gmail.com\")"
      ],
      "execution_count": 0,
      "outputs": []
    },
    {
      "cell_type": "markdown",
      "metadata": {
        "id": "wwdn_-fj1-ok",
        "colab_type": "text"
      },
      "source": [
        "Unpacking the tuple through assignment"
      ]
    },
    {
      "cell_type": "code",
      "metadata": {
        "id": "x_BodgaS18Ha",
        "colab_type": "code",
        "colab": {}
      },
      "source": [
        "firstName,lastName,email = x"
      ],
      "execution_count": 0,
      "outputs": []
    },
    {
      "cell_type": "code",
      "metadata": {
        "id": "ai2jvVNK2MkK",
        "colab_type": "code",
        "outputId": "9780491f-dd1f-4f8c-ab19-abb044a5ed0d",
        "colab": {
          "base_uri": "https://localhost:8080/",
          "height": 36
        }
      },
      "source": [
        "firstName"
      ],
      "execution_count": 0,
      "outputs": [
        {
          "output_type": "execute_result",
          "data": {
            "text/plain": [
              "'Ahmad'"
            ]
          },
          "metadata": {
            "tags": []
          },
          "execution_count": 19
        }
      ]
    },
    {
      "cell_type": "code",
      "metadata": {
        "id": "0WuzkhIB2PYF",
        "colab_type": "code",
        "outputId": "18a73220-57f1-4057-8bae-02788db73859",
        "colab": {
          "base_uri": "https://localhost:8080/",
          "height": 36
        }
      },
      "source": [
        "email"
      ],
      "execution_count": 0,
      "outputs": [
        {
          "output_type": "execute_result",
          "data": {
            "text/plain": [
              "'asami1997@gmail.com'"
            ]
          },
          "metadata": {
            "tags": []
          },
          "execution_count": 20
        }
      ]
    },
    {
      "cell_type": "code",
      "metadata": {
        "id": "kvfLYV1r2R5n",
        "colab_type": "code",
        "outputId": "c8f431ab-ca8c-46d0-dd70-ef65a99fe48f",
        "colab": {
          "base_uri": "https://localhost:8080/",
          "height": 36
        }
      },
      "source": [
        "z = \"{} example of string substitution\"\n",
        "z.format(\"this is\")"
      ],
      "execution_count": 0,
      "outputs": [
        {
          "output_type": "execute_result",
          "data": {
            "text/plain": [
              "'this is example of string substitution'"
            ]
          },
          "metadata": {
            "tags": []
          },
          "execution_count": 1
        }
      ]
    },
    {
      "cell_type": "code",
      "metadata": {
        "id": "lYnDj_ORVgup",
        "colab_type": "code",
        "outputId": "96b88a04-bcc3-42d8-b30d-d5365ee11821",
        "colab": {
          "base_uri": "https://localhost:8080/",
          "height": 36
        }
      },
      "source": [
        "s = \" i am {0:0.2f}% sure of that\"\n",
        "s.format(100)"
      ],
      "execution_count": 0,
      "outputs": [
        {
          "output_type": "execute_result",
          "data": {
            "text/plain": [
              "' i am 100.00% sure of that'"
            ]
          },
          "metadata": {
            "tags": []
          },
          "execution_count": 4
        }
      ]
    },
    {
      "cell_type": "code",
      "metadata": {
        "id": "vGdpP-NhcPMq",
        "colab_type": "code",
        "colab": {
          "base_uri": "https://localhost:8080/",
          "height": 36
        },
        "outputId": "ddd58c7d-ed00-480a-e7bb-312f7c170b45"
      },
      "source": [
        "testString = \"this is a {first:0.3f} precision\"\n",
        "testString.format(first = 4.987676373)"
      ],
      "execution_count": 19,
      "outputs": [
        {
          "output_type": "execute_result",
          "data": {
            "text/plain": [
              "'this is a 4.988 precision'"
            ]
          },
          "metadata": {
            "tags": []
          },
          "execution_count": 19
        }
      ]
    },
    {
      "cell_type": "code",
      "metadata": {
        "id": "_1KhbIYlcmBS",
        "colab_type": "code",
        "outputId": "01ad5a7f-d607-48a6-b50a-7f71db1e6953",
        "colab": {
          "base_uri": "https://localhost:8080/",
          "height": 36
        }
      },
      "source": [
        "s = \" i am {key:0.2f}% sure of that\"\n",
        "s.format(key = 100)"
      ],
      "execution_count": 17,
      "outputs": [
        {
          "output_type": "execute_result",
          "data": {
            "text/plain": [
              "' i am 100.00% sure of that'"
            ]
          },
          "metadata": {
            "tags": []
          },
          "execution_count": 17
        }
      ]
    },
    {
      "cell_type": "markdown",
      "metadata": {
        "id": "5i7_zzhsiRil",
        "colab_type": "text"
      },
      "source": [
        "Setting the floating point precision value in the notebook using the precision magic command"
      ]
    },
    {
      "cell_type": "code",
      "metadata": {
        "id": "TKhyjclSicYV",
        "colab_type": "code",
        "outputId": "01f19986-54ee-46ba-8e15-e7ee1d9a3a70",
        "colab": {
          "base_uri": "https://localhost:8080/",
          "height": 36
        }
      },
      "source": [
        "%precision %.2f"
      ],
      "execution_count": 21,
      "outputs": [
        {
          "output_type": "execute_result",
          "data": {
            "text/plain": [
              "'%.2f'"
            ]
          },
          "metadata": {
            "tags": []
          },
          "execution_count": 21
        }
      ]
    },
    {
      "cell_type": "markdown",
      "metadata": {
        "id": "kdvLaebd8eY2",
        "colab_type": "text"
      },
      "source": [
        "Opening a csv file, reading it as dictionary and then adding all the \n",
        "\n",
        "dictionaries as a list in which each dictionary in a list is a sample.\n"
      ]
    },
    {
      "cell_type": "code",
      "metadata": {
        "id": "d69AxEv9dNvO",
        "colab_type": "code",
        "colab": {}
      },
      "source": [
        "import csv"
      ],
      "execution_count": 0,
      "outputs": []
    },
    {
      "cell_type": "code",
      "metadata": {
        "id": "4vaqdirwh_WL",
        "colab_type": "code",
        "outputId": "df87dbef-af37-4e32-e1f1-908f36e79f1a",
        "colab": {
          "base_uri": "https://localhost:8080/",
          "height": 1000
        }
      },
      "source": [
        "with open('car_data.csv') as csvFile:\n",
        "  carList = list(csv.DictReader(csvFile))\n",
        "carList[:3]"
      ],
      "execution_count": 0,
      "outputs": [
        {
          "output_type": "execute_result",
          "data": {
            "text/plain": [
              "[OrderedDict([('', '1'),\n",
              "              ('make', 'alfa-romero'),\n",
              "              ('fuel_type', 'gas'),\n",
              "              ('aspiration', 'std'),\n",
              "              ('num_of_doors', 'two'),\n",
              "              ('body_style', 'convertible'),\n",
              "              ('drive_wheels', 'rwd'),\n",
              "              ('engine_location', 'front'),\n",
              "              ('wheel_base', '88.6'),\n",
              "              ('length', '168.8'),\n",
              "              ('width', '64.1'),\n",
              "              ('height', '48.8'),\n",
              "              ('curb_weight', '2548'),\n",
              "              ('engine_type', 'dohc'),\n",
              "              ('num_of_cylinders', 'four'),\n",
              "              ('engine_size', '130'),\n",
              "              ('fuel_system', 'mpfi'),\n",
              "              ('compression_ratio', '9'),\n",
              "              ('horsepower', '111'),\n",
              "              ('peak_rpm', '5000'),\n",
              "              ('city_mpg', '21'),\n",
              "              ('highway_mpg', '27'),\n",
              "              ('price', '13495')]),\n",
              " OrderedDict([('', '2'),\n",
              "              ('make', 'alfa-romero'),\n",
              "              ('fuel_type', 'gas'),\n",
              "              ('aspiration', 'std'),\n",
              "              ('num_of_doors', 'two'),\n",
              "              ('body_style', 'convertible'),\n",
              "              ('drive_wheels', 'rwd'),\n",
              "              ('engine_location', 'front'),\n",
              "              ('wheel_base', '88.6'),\n",
              "              ('length', '168.8'),\n",
              "              ('width', '64.1'),\n",
              "              ('height', '48.8'),\n",
              "              ('curb_weight', '2548'),\n",
              "              ('engine_type', 'dohc'),\n",
              "              ('num_of_cylinders', 'four'),\n",
              "              ('engine_size', '130'),\n",
              "              ('fuel_system', 'mpfi'),\n",
              "              ('compression_ratio', '9'),\n",
              "              ('horsepower', '111'),\n",
              "              ('peak_rpm', '5000'),\n",
              "              ('city_mpg', '21'),\n",
              "              ('highway_mpg', '27'),\n",
              "              ('price', '16500')]),\n",
              " OrderedDict([('', '3'),\n",
              "              ('make', 'alfa-romero'),\n",
              "              ('fuel_type', 'gas'),\n",
              "              ('aspiration', 'std'),\n",
              "              ('num_of_doors', 'two'),\n",
              "              ('body_style', 'hatchback'),\n",
              "              ('drive_wheels', 'rwd'),\n",
              "              ('engine_location', 'front'),\n",
              "              ('wheel_base', '94.5'),\n",
              "              ('length', '171.2'),\n",
              "              ('width', '65.5'),\n",
              "              ('height', '52.4'),\n",
              "              ('curb_weight', '2823'),\n",
              "              ('engine_type', 'ohcv'),\n",
              "              ('num_of_cylinders', 'six'),\n",
              "              ('engine_size', '152'),\n",
              "              ('fuel_system', 'mpfi'),\n",
              "              ('compression_ratio', '9'),\n",
              "              ('horsepower', '154'),\n",
              "              ('peak_rpm', '5000'),\n",
              "              ('city_mpg', '19'),\n",
              "              ('highway_mpg', '26'),\n",
              "              ('price', '16500')])]"
            ]
          },
          "metadata": {
            "tags": []
          },
          "execution_count": 9
        }
      ]
    },
    {
      "cell_type": "code",
      "metadata": {
        "id": "HZ36-TWIb5vR",
        "colab_type": "code",
        "outputId": "de86638a-0aeb-44c7-dc4b-26fac00a8e66",
        "colab": {
          "base_uri": "https://localhost:8080/",
          "height": 36
        }
      },
      "source": [
        "len(carList)"
      ],
      "execution_count": 0,
      "outputs": [
        {
          "output_type": "execute_result",
          "data": {
            "text/plain": [
              "205"
            ]
          },
          "metadata": {
            "tags": []
          },
          "execution_count": 10
        }
      ]
    },
    {
      "cell_type": "code",
      "metadata": {
        "id": "mYJKztpIb7Ah",
        "colab_type": "code",
        "outputId": "00da50c0-5f8e-48bb-a669-76a7e495f0bc",
        "colab": {
          "base_uri": "https://localhost:8080/",
          "height": 56
        }
      },
      "source": [
        "carList[0].keys()"
      ],
      "execution_count": 0,
      "outputs": [
        {
          "output_type": "execute_result",
          "data": {
            "text/plain": [
              "odict_keys(['', 'make', 'fuel_type', 'aspiration', 'num_of_doors', 'body_style', 'drive_wheels', 'engine_location', 'wheel_base', 'length', 'width', 'height', 'curb_weight', 'engine_type', 'num_of_cylinders', 'engine_size', 'fuel_system', 'compression_ratio', 'horsepower', 'peak_rpm', 'city_mpg', 'highway_mpg', 'price'])"
            ]
          },
          "metadata": {
            "tags": []
          },
          "execution_count": 11
        }
      ]
    },
    {
      "cell_type": "code",
      "metadata": {
        "id": "texmDWZjcO_E",
        "colab_type": "code",
        "outputId": "243ab563-4dfe-4c7f-e61a-d914a577312b",
        "colab": {
          "base_uri": "https://localhost:8080/",
          "height": 56
        }
      },
      "source": [
        "carList[0].values()"
      ],
      "execution_count": 0,
      "outputs": [
        {
          "output_type": "execute_result",
          "data": {
            "text/plain": [
              "odict_values(['1', 'alfa-romero', 'gas', 'std', 'two', 'convertible', 'rwd', 'front', '88.6', '168.8', '64.1', '48.8', '2548', 'dohc', 'four', '130', 'mpfi', '9', '111', '5000', '21', '27', '13495'])"
            ]
          },
          "metadata": {
            "tags": []
          },
          "execution_count": 12
        }
      ]
    },
    {
      "cell_type": "markdown",
      "metadata": {
        "id": "se3wE4s0d0nu",
        "colab_type": "text"
      },
      "source": [
        "simpilfied loop , the value of every iteration is added. Loops throught the list of dictionaries and adds up the city_mpg. converts the value to int"
      ]
    },
    {
      "cell_type": "code",
      "metadata": {
        "id": "KF3qNUFfcSz2",
        "colab_type": "code",
        "outputId": "f9fe6c4c-5f6e-4f16-9d30-451a6fe8e8d3",
        "colab": {
          "base_uri": "https://localhost:8080/",
          "height": 36
        }
      },
      "source": [
        "sum(int(car['city_mpg']) for car in carList)"
      ],
      "execution_count": 0,
      "outputs": [
        {
          "output_type": "execute_result",
          "data": {
            "text/plain": [
              "5170"
            ]
          },
          "metadata": {
            "tags": []
          },
          "execution_count": 15
        }
      ]
    },
    {
      "cell_type": "markdown",
      "metadata": {
        "id": "U48X0N9ugcCH",
        "colab_type": "text"
      },
      "source": [
        "The set function function returns a list of unique values. The function below will return a set of all the fuel types in our list of dictionaries\n"
      ]
    },
    {
      "cell_type": "code",
      "metadata": {
        "id": "txSKqxmxfS6R",
        "colab_type": "code",
        "outputId": "1e3d5e8d-ac85-4eda-cb45-4e9e0c3fe876",
        "colab": {
          "base_uri": "https://localhost:8080/",
          "height": 36
        }
      },
      "source": [
        "set(car['fuel_type'] for car in carList)"
      ],
      "execution_count": 0,
      "outputs": [
        {
          "output_type": "execute_result",
          "data": {
            "text/plain": [
              "{'diesel', 'gas'}"
            ]
          },
          "metadata": {
            "tags": []
          },
          "execution_count": 17
        }
      ]
    },
    {
      "cell_type": "code",
      "metadata": {
        "id": "_Vuh3Jp-h7qG",
        "colab_type": "code",
        "colab": {}
      },
      "source": [
        "import time"
      ],
      "execution_count": 0,
      "outputs": []
    },
    {
      "cell_type": "markdown",
      "metadata": {
        "id": "O8znQnuQtbVd",
        "colab_type": "text"
      },
      "source": [
        "UNIX TimeStamp"
      ]
    },
    {
      "cell_type": "code",
      "metadata": {
        "id": "MIFlvA3LtV8P",
        "colab_type": "code",
        "outputId": "09963e55-35ad-460a-c958-8d84537e3e13",
        "colab": {
          "base_uri": "https://localhost:8080/",
          "height": 36
        }
      },
      "source": [
        "time.time()"
      ],
      "execution_count": 0,
      "outputs": [
        {
          "output_type": "execute_result",
          "data": {
            "text/plain": [
              "1587153331.17"
            ]
          },
          "metadata": {
            "tags": []
          },
          "execution_count": 21
        }
      ]
    },
    {
      "cell_type": "markdown",
      "metadata": {
        "id": "J-G2zGLEtuoV",
        "colab_type": "text"
      },
      "source": [
        "converting the runnting total seconds to a timestamp"
      ]
    },
    {
      "cell_type": "code",
      "metadata": {
        "id": "I4Myl8oQteJg",
        "colab_type": "code",
        "colab": {}
      },
      "source": [
        "import datetime as dt"
      ],
      "execution_count": 0,
      "outputs": []
    },
    {
      "cell_type": "code",
      "metadata": {
        "id": "kmHIbtvet6er",
        "colab_type": "code",
        "colab": {}
      },
      "source": [
        "timestamp = dt.datetime.fromtimestamp(time.time())"
      ],
      "execution_count": 0,
      "outputs": []
    },
    {
      "cell_type": "code",
      "metadata": {
        "id": "SxXESV4xuGOJ",
        "colab_type": "code",
        "outputId": "042b0ea6-1ff5-4e1b-b59c-700968afd4db",
        "colab": {
          "base_uri": "https://localhost:8080/",
          "height": 36
        }
      },
      "source": [
        "timestamp.year"
      ],
      "execution_count": 0,
      "outputs": [
        {
          "output_type": "execute_result",
          "data": {
            "text/plain": [
              "2020"
            ]
          },
          "metadata": {
            "tags": []
          },
          "execution_count": 25
        }
      ]
    },
    {
      "cell_type": "code",
      "metadata": {
        "id": "8uRWipxcugWQ",
        "colab_type": "code",
        "colab": {}
      },
      "source": [
        "class testCalss:\n",
        "  #instance variables\n",
        "  brand = \"Nike\"\n",
        "\n",
        "  def changeBrandName(self,name):\n",
        "    self.brand = name"
      ],
      "execution_count": 0,
      "outputs": []
    },
    {
      "cell_type": "markdown",
      "metadata": {
        "id": "kyFZ1UmctoIh",
        "colab_type": "text"
      },
      "source": [
        "Some functional programming concepts in python, Map function (Higher Order Functions)"
      ]
    },
    {
      "cell_type": "code",
      "metadata": {
        "id": "8PBHNmFupO2b",
        "colab_type": "code",
        "outputId": "173743d0-bf9b-48a6-a78d-0cfc57c0c86a",
        "colab": {
          "base_uri": "https://localhost:8080/",
          "height": 36
        }
      },
      "source": [
        "People = ['Ahmad Sami','Arnold Schwarzenegger']\n",
        "\n",
        "def split_name(name):\n",
        "  firstName = name.split(' ')[0]\n",
        "  lastName - name.split(' ')[-1]\n",
        "  \n",
        "  return '{} {}'.format(firstName,lastName)\n",
        "\n",
        "map(split_name,People)"
      ],
      "execution_count": 0,
      "outputs": [
        {
          "output_type": "execute_result",
          "data": {
            "text/plain": [
              "<map at 0x7f503d4dc1d0>"
            ]
          },
          "metadata": {
            "tags": []
          },
          "execution_count": 2
        }
      ]
    },
    {
      "cell_type": "markdown",
      "metadata": {
        "id": "rAXQsFrbB2DT",
        "colab_type": "text"
      },
      "source": [
        "Lambda Functions. Structute : Keyword Lambda followed by the list of argument, colon , then the expression."
      ]
    },
    {
      "cell_type": "code",
      "metadata": {
        "id": "yVvmgivhvT0W",
        "colab_type": "code",
        "colab": {}
      },
      "source": [
        "my_function = lambda a,b,c : a + b + c"
      ],
      "execution_count": 0,
      "outputs": []
    },
    {
      "cell_type": "code",
      "metadata": {
        "id": "CnuUecmACW5g",
        "colab_type": "code",
        "outputId": "25dd794f-3de7-4936-e679-f48559c06fd4",
        "colab": {
          "base_uri": "https://localhost:8080/",
          "height": 36
        }
      },
      "source": [
        "my_function"
      ],
      "execution_count": 0,
      "outputs": [
        {
          "output_type": "execute_result",
          "data": {
            "text/plain": [
              "<function __main__.<lambda>>"
            ]
          },
          "metadata": {
            "tags": []
          },
          "execution_count": 4
        }
      ]
    },
    {
      "cell_type": "code",
      "metadata": {
        "id": "Yl0-PDP9CYl_",
        "colab_type": "code",
        "outputId": "3340d3ba-3f72-4e16-af08-681b85390720",
        "colab": {
          "base_uri": "https://localhost:8080/",
          "height": 174
        }
      },
      "source": [
        "my_function()"
      ],
      "execution_count": 0,
      "outputs": [
        {
          "output_type": "error",
          "ename": "TypeError",
          "evalue": "ignored",
          "traceback": [
            "\u001b[0;31m---------------------------------------------------------------------------\u001b[0m",
            "\u001b[0;31mTypeError\u001b[0m                                 Traceback (most recent call last)",
            "\u001b[0;32m<ipython-input-5-7bebf01be998>\u001b[0m in \u001b[0;36m<module>\u001b[0;34m()\u001b[0m\n\u001b[0;32m----> 1\u001b[0;31m \u001b[0mmy_function\u001b[0m\u001b[0;34m(\u001b[0m\u001b[0;34m)\u001b[0m\u001b[0;34m\u001b[0m\u001b[0;34m\u001b[0m\u001b[0m\n\u001b[0m",
            "\u001b[0;31mTypeError\u001b[0m: <lambda>() missing 3 required positional arguments: 'a', 'b', and 'c'"
          ]
        }
      ]
    },
    {
      "cell_type": "code",
      "metadata": {
        "id": "5TL6ql-eCb0G",
        "colab_type": "code",
        "outputId": "d012ecad-f27c-4b16-cd26-5c4983d5d78f",
        "colab": {
          "base_uri": "https://localhost:8080/",
          "height": 36
        }
      },
      "source": [
        "my_function(1,2,3)"
      ],
      "execution_count": 0,
      "outputs": [
        {
          "output_type": "execute_result",
          "data": {
            "text/plain": [
              "6"
            ]
          },
          "metadata": {
            "tags": []
          },
          "execution_count": 6
        }
      ]
    },
    {
      "cell_type": "markdown",
      "metadata": {
        "id": "ee9mp1kHLBD3",
        "colab_type": "text"
      },
      "source": [
        "List Comprehensions, structure : value you want to insert , loop , then condition\n",
        "\n",
        "> Indented block\n",
        "\n"
      ]
    },
    {
      "cell_type": "code",
      "metadata": {
        "id": "u88J0eDaCgF5",
        "colab_type": "code",
        "colab": {}
      },
      "source": [
        "my_list = [number for number in range(4) if number == 3]"
      ],
      "execution_count": 0,
      "outputs": []
    },
    {
      "cell_type": "code",
      "metadata": {
        "id": "yZjS1zu2Lu2L",
        "colab_type": "code",
        "outputId": "2a3ea5dd-597e-4cf4-d81b-f29e506bb22b",
        "colab": {
          "base_uri": "https://localhost:8080/",
          "height": 36
        }
      },
      "source": [
        "my_list"
      ],
      "execution_count": 34,
      "outputs": [
        {
          "output_type": "execute_result",
          "data": {
            "text/plain": [
              "[3]"
            ]
          },
          "metadata": {
            "tags": []
          },
          "execution_count": 34
        }
      ]
    },
    {
      "cell_type": "markdown",
      "metadata": {
        "id": "vWaUoqwiMm-U",
        "colab_type": "text"
      },
      "source": [
        "Nested for loop in list comprehension\n"
      ]
    },
    {
      "cell_type": "code",
      "metadata": {
        "id": "EsReBKhGLwec",
        "colab_type": "code",
        "colab": {}
      },
      "source": [
        "times_tables = [i*j for i in range(10) for j in range(10)]"
      ],
      "execution_count": 0,
      "outputs": []
    },
    {
      "cell_type": "code",
      "metadata": {
        "id": "lJpHkJb6Mw0F",
        "colab_type": "code",
        "outputId": "a0b20c41-a764-47b5-d307-1789986a346f",
        "colab": {
          "base_uri": "https://localhost:8080/",
          "height": 1000
        }
      },
      "source": [
        "times_tables"
      ],
      "execution_count": 0,
      "outputs": [
        {
          "output_type": "execute_result",
          "data": {
            "text/plain": [
              "[0,\n",
              " 0,\n",
              " 0,\n",
              " 0,\n",
              " 0,\n",
              " 0,\n",
              " 0,\n",
              " 0,\n",
              " 0,\n",
              " 0,\n",
              " 0,\n",
              " 1,\n",
              " 2,\n",
              " 3,\n",
              " 4,\n",
              " 5,\n",
              " 6,\n",
              " 7,\n",
              " 8,\n",
              " 9,\n",
              " 0,\n",
              " 2,\n",
              " 4,\n",
              " 6,\n",
              " 8,\n",
              " 10,\n",
              " 12,\n",
              " 14,\n",
              " 16,\n",
              " 18,\n",
              " 0,\n",
              " 3,\n",
              " 6,\n",
              " 9,\n",
              " 12,\n",
              " 15,\n",
              " 18,\n",
              " 21,\n",
              " 24,\n",
              " 27,\n",
              " 0,\n",
              " 4,\n",
              " 8,\n",
              " 12,\n",
              " 16,\n",
              " 20,\n",
              " 24,\n",
              " 28,\n",
              " 32,\n",
              " 36,\n",
              " 0,\n",
              " 5,\n",
              " 10,\n",
              " 15,\n",
              " 20,\n",
              " 25,\n",
              " 30,\n",
              " 35,\n",
              " 40,\n",
              " 45,\n",
              " 0,\n",
              " 6,\n",
              " 12,\n",
              " 18,\n",
              " 24,\n",
              " 30,\n",
              " 36,\n",
              " 42,\n",
              " 48,\n",
              " 54,\n",
              " 0,\n",
              " 7,\n",
              " 14,\n",
              " 21,\n",
              " 28,\n",
              " 35,\n",
              " 42,\n",
              " 49,\n",
              " 56,\n",
              " 63,\n",
              " 0,\n",
              " 8,\n",
              " 16,\n",
              " 24,\n",
              " 32,\n",
              " 40,\n",
              " 48,\n",
              " 56,\n",
              " 64,\n",
              " 72,\n",
              " 0,\n",
              " 9,\n",
              " 18,\n",
              " 27,\n",
              " 36,\n",
              " 45,\n",
              " 54,\n",
              " 63,\n",
              " 72,\n",
              " 81]"
            ]
          },
          "metadata": {
            "tags": []
          },
          "execution_count": 13
        }
      ]
    },
    {
      "cell_type": "markdown",
      "metadata": {
        "id": "8qTCIsq5TEPh",
        "colab_type": "text"
      },
      "source": [
        "Numpy Arrays\n",
        "\n"
      ]
    },
    {
      "cell_type": "code",
      "metadata": {
        "id": "yHZkxWxzTFKK",
        "colab_type": "code",
        "colab": {}
      },
      "source": [
        "import numpy as np"
      ],
      "execution_count": 0,
      "outputs": []
    },
    {
      "cell_type": "code",
      "metadata": {
        "id": "nH2e6X5lTJK1",
        "colab_type": "code",
        "colab": {}
      },
      "source": [
        "array_1 = np.array([1,2,3])"
      ],
      "execution_count": 0,
      "outputs": []
    },
    {
      "cell_type": "code",
      "metadata": {
        "id": "zSsibrB6m-jM",
        "colab_type": "code",
        "outputId": "ea6d209d-0d9e-4bfa-d721-42f9076b2d60",
        "colab": {
          "base_uri": "https://localhost:8080/",
          "height": 36
        }
      },
      "source": [
        "array_1"
      ],
      "execution_count": 0,
      "outputs": [
        {
          "output_type": "execute_result",
          "data": {
            "text/plain": [
              "array([1, 2, 3])"
            ]
          },
          "metadata": {
            "tags": []
          },
          "execution_count": 19
        }
      ]
    },
    {
      "cell_type": "markdown",
      "metadata": {
        "id": "1WfzThJjnG3t",
        "colab_type": "text"
      },
      "source": [
        "Multidimensional Arrays (Matrices)"
      ]
    },
    {
      "cell_type": "code",
      "metadata": {
        "id": "zng5VcUnnDpu",
        "colab_type": "code",
        "colab": {}
      },
      "source": [
        "Two_dimensional_Array = np.array([[1,2,3,4],[5,6,7,8]])"
      ],
      "execution_count": 0,
      "outputs": []
    },
    {
      "cell_type": "code",
      "metadata": {
        "id": "CLO9WBNynZ78",
        "colab_type": "code",
        "outputId": "8d57d4ec-3a78-48b1-b66f-5e624b30aaf6",
        "colab": {
          "base_uri": "https://localhost:8080/",
          "height": 54
        }
      },
      "source": [
        "Two_dimensional_Array"
      ],
      "execution_count": 0,
      "outputs": [
        {
          "output_type": "execute_result",
          "data": {
            "text/plain": [
              "array([[1, 2, 3, 4],\n",
              "       [5, 6, 7, 8]])"
            ]
          },
          "metadata": {
            "tags": []
          },
          "execution_count": 26
        }
      ]
    },
    {
      "cell_type": "markdown",
      "metadata": {
        "id": "YVX264xnxsAq",
        "colab_type": "text"
      },
      "source": [
        "Array from 5 to 30 with intervals of 5"
      ]
    },
    {
      "cell_type": "code",
      "metadata": {
        "id": "PCb_R7VjnnvY",
        "colab_type": "code",
        "colab": {}
      },
      "source": [
        "n = np.arange(5,30,5)"
      ],
      "execution_count": 0,
      "outputs": []
    },
    {
      "cell_type": "code",
      "metadata": {
        "id": "gFw_SNK-x0_a",
        "colab_type": "code",
        "outputId": "b29be9de-e648-4eb7-8b44-92f4fceb40be",
        "colab": {
          "base_uri": "https://localhost:8080/",
          "height": 36
        }
      },
      "source": [
        "n"
      ],
      "execution_count": 0,
      "outputs": [
        {
          "output_type": "execute_result",
          "data": {
            "text/plain": [
              "array([ 5, 10, 15, 20, 25])"
            ]
          },
          "metadata": {
            "tags": []
          },
          "execution_count": 6
        }
      ]
    },
    {
      "cell_type": "markdown",
      "metadata": {
        "id": "Py_3to-bywsU",
        "colab_type": "text"
      },
      "source": [
        "reshape to 3 by 5 array"
      ]
    },
    {
      "cell_type": "code",
      "metadata": {
        "id": "ubDnS_Z_yvUj",
        "colab_type": "code",
        "outputId": "dc825532-2bf6-493e-a271-2e9e0176a331",
        "colab": {
          "base_uri": "https://localhost:8080/",
          "height": 174
        }
      },
      "source": [
        "n.reshape(2,3)"
      ],
      "execution_count": 0,
      "outputs": [
        {
          "output_type": "error",
          "ename": "ValueError",
          "evalue": "ignored",
          "traceback": [
            "\u001b[0;31m---------------------------------------------------------------------------\u001b[0m",
            "\u001b[0;31mValueError\u001b[0m                                Traceback (most recent call last)",
            "\u001b[0;32m<ipython-input-8-5d48e94eaada>\u001b[0m in \u001b[0;36m<module>\u001b[0;34m()\u001b[0m\n\u001b[0;32m----> 1\u001b[0;31m \u001b[0mn\u001b[0m\u001b[0;34m.\u001b[0m\u001b[0mreshape\u001b[0m\u001b[0;34m(\u001b[0m\u001b[0;36m2\u001b[0m\u001b[0;34m,\u001b[0m\u001b[0;36m3\u001b[0m\u001b[0;34m)\u001b[0m\u001b[0;34m\u001b[0m\u001b[0;34m\u001b[0m\u001b[0m\n\u001b[0m",
            "\u001b[0;31mValueError\u001b[0m: cannot reshape array of size 5 into shape (2,3)"
          ]
        }
      ]
    },
    {
      "cell_type": "code",
      "metadata": {
        "id": "tHal4N6fy4pT",
        "colab_type": "code",
        "outputId": "f9298805-0e32-4da5-9b96-4d7727d781af",
        "colab": {
          "base_uri": "https://localhost:8080/",
          "height": 305
        }
      },
      "source": [
        "np.ones(1,2)"
      ],
      "execution_count": 0,
      "outputs": [
        {
          "output_type": "error",
          "ename": "TypeError",
          "evalue": "ignored",
          "traceback": [
            "\u001b[0;31m---------------------------------------------------------------------------\u001b[0m",
            "\u001b[0;31mTypeError\u001b[0m                                 Traceback (most recent call last)",
            "\u001b[0;32m<ipython-input-9-a46c0e0ce268>\u001b[0m in \u001b[0;36m<module>\u001b[0;34m()\u001b[0m\n\u001b[0;32m----> 1\u001b[0;31m \u001b[0mnp\u001b[0m\u001b[0;34m.\u001b[0m\u001b[0mones\u001b[0m\u001b[0;34m(\u001b[0m\u001b[0;36m1\u001b[0m\u001b[0;34m,\u001b[0m\u001b[0;36m2\u001b[0m\u001b[0;34m)\u001b[0m\u001b[0;34m\u001b[0m\u001b[0;34m\u001b[0m\u001b[0m\n\u001b[0m",
            "\u001b[0;32m/usr/local/lib/python3.6/dist-packages/numpy/core/numeric.py\u001b[0m in \u001b[0;36mones\u001b[0;34m(shape, dtype, order)\u001b[0m\n\u001b[1;32m    205\u001b[0m \u001b[0;34m\u001b[0m\u001b[0m\n\u001b[1;32m    206\u001b[0m     \"\"\"\n\u001b[0;32m--> 207\u001b[0;31m     \u001b[0ma\u001b[0m \u001b[0;34m=\u001b[0m \u001b[0mempty\u001b[0m\u001b[0;34m(\u001b[0m\u001b[0mshape\u001b[0m\u001b[0;34m,\u001b[0m \u001b[0mdtype\u001b[0m\u001b[0;34m,\u001b[0m \u001b[0morder\u001b[0m\u001b[0;34m)\u001b[0m\u001b[0;34m\u001b[0m\u001b[0;34m\u001b[0m\u001b[0m\n\u001b[0m\u001b[1;32m    208\u001b[0m     \u001b[0mmultiarray\u001b[0m\u001b[0;34m.\u001b[0m\u001b[0mcopyto\u001b[0m\u001b[0;34m(\u001b[0m\u001b[0ma\u001b[0m\u001b[0;34m,\u001b[0m \u001b[0;36m1\u001b[0m\u001b[0;34m,\u001b[0m \u001b[0mcasting\u001b[0m\u001b[0;34m=\u001b[0m\u001b[0;34m'unsafe'\u001b[0m\u001b[0;34m)\u001b[0m\u001b[0;34m\u001b[0m\u001b[0;34m\u001b[0m\u001b[0m\n\u001b[1;32m    209\u001b[0m     \u001b[0;32mreturn\u001b[0m \u001b[0ma\u001b[0m\u001b[0;34m\u001b[0m\u001b[0;34m\u001b[0m\u001b[0m\n",
            "\u001b[0;31mTypeError\u001b[0m: data type not understood"
          ]
        }
      ]
    },
    {
      "cell_type": "code",
      "metadata": {
        "id": "NkavrPNFzj50",
        "colab_type": "code",
        "outputId": "9d3e9ce1-8bcf-4e5b-aaa8-caac303d8fcf",
        "colab": {
          "base_uri": "https://localhost:8080/",
          "height": 36
        }
      },
      "source": [
        "np.ones((1,3))"
      ],
      "execution_count": 0,
      "outputs": [
        {
          "output_type": "execute_result",
          "data": {
            "text/plain": [
              "array([[1., 1., 1.]])"
            ]
          },
          "metadata": {
            "tags": []
          },
          "execution_count": 10
        }
      ]
    },
    {
      "cell_type": "code",
      "metadata": {
        "id": "FmT6Xd3szqXG",
        "colab_type": "code",
        "outputId": "59b12535-a4fd-4612-c6a4-ec6b7bd845a0",
        "colab": {
          "base_uri": "https://localhost:8080/",
          "height": 54
        }
      },
      "source": [
        "np.zeros((2,5))"
      ],
      "execution_count": 0,
      "outputs": [
        {
          "output_type": "execute_result",
          "data": {
            "text/plain": [
              "array([[0., 0., 0., 0., 0.],\n",
              "       [0., 0., 0., 0., 0.]])"
            ]
          },
          "metadata": {
            "tags": []
          },
          "execution_count": 11
        }
      ]
    },
    {
      "cell_type": "markdown",
      "metadata": {
        "id": "JcnU4PBo2Wez",
        "colab_type": "text"
      },
      "source": [
        "returns ones in the diagonal and zeros everywhere"
      ]
    },
    {
      "cell_type": "code",
      "metadata": {
        "id": "wkqtR1RgzvcH",
        "colab_type": "code",
        "outputId": "a363d2f6-c3b7-4ac6-d736-e47aaeb206c0",
        "colab": {
          "base_uri": "https://localhost:8080/",
          "height": 92
        }
      },
      "source": [
        "np.eye(4)"
      ],
      "execution_count": 35,
      "outputs": [
        {
          "output_type": "execute_result",
          "data": {
            "text/plain": [
              "array([[1., 0., 0., 0.],\n",
              "       [0., 1., 0., 0.],\n",
              "       [0., 0., 1., 0.],\n",
              "       [0., 0., 0., 1.]])"
            ]
          },
          "metadata": {
            "tags": []
          },
          "execution_count": 35
        }
      ]
    },
    {
      "cell_type": "code",
      "metadata": {
        "id": "5FFSlHJb0mOE",
        "colab_type": "code",
        "outputId": "3e11f4b0-cc73-4cbe-9365-32db9681dcd1",
        "colab": {
          "base_uri": "https://localhost:8080/",
          "height": 54
        }
      },
      "source": [
        "np.vstack(([1,2,3],[3,6,7]))"
      ],
      "execution_count": 0,
      "outputs": [
        {
          "output_type": "execute_result",
          "data": {
            "text/plain": [
              "array([[1, 2, 3],\n",
              "       [3, 6, 7]])"
            ]
          },
          "metadata": {
            "tags": []
          },
          "execution_count": 16
        }
      ]
    },
    {
      "cell_type": "code",
      "metadata": {
        "id": "lihMnqat4fe2",
        "colab_type": "code",
        "colab": {}
      },
      "source": [
        "y = np.array([1,2,3])"
      ],
      "execution_count": 0,
      "outputs": []
    },
    {
      "cell_type": "code",
      "metadata": {
        "id": "F2ukx1275wKi",
        "colab_type": "code",
        "outputId": "13944e58-4a6c-4f4b-908b-a9e99078ee23",
        "colab": {
          "base_uri": "https://localhost:8080/",
          "height": 36
        }
      },
      "source": [
        "y**2"
      ],
      "execution_count": 0,
      "outputs": [
        {
          "output_type": "execute_result",
          "data": {
            "text/plain": [
              "array([1, 4, 9])"
            ]
          },
          "metadata": {
            "tags": []
          },
          "execution_count": 20
        }
      ]
    },
    {
      "cell_type": "code",
      "metadata": {
        "id": "dh2GjgVH5xg7",
        "colab_type": "code",
        "outputId": "a004e914-a0bf-4215-bea0-4c1c890647ab",
        "colab": {
          "base_uri": "https://localhost:8080/",
          "height": 54
        }
      },
      "source": [
        "np.array([y,y**2])"
      ],
      "execution_count": 0,
      "outputs": [
        {
          "output_type": "execute_result",
          "data": {
            "text/plain": [
              "array([[1, 2, 3],\n",
              "       [1, 4, 9]])"
            ]
          },
          "metadata": {
            "tags": []
          },
          "execution_count": 21
        }
      ]
    },
    {
      "cell_type": "markdown",
      "metadata": {
        "id": "ToPU4g1MFcn9",
        "colab_type": "text"
      },
      "source": [
        "Transpose an array"
      ]
    },
    {
      "cell_type": "code",
      "metadata": {
        "id": "EOm8hqxC-SOX",
        "colab_type": "code",
        "colab": {}
      },
      "source": [
        "x = np.array(([1,2,3,4],[4,5,6,7]))"
      ],
      "execution_count": 0,
      "outputs": []
    },
    {
      "cell_type": "code",
      "metadata": {
        "id": "W4RL0dzwFV90",
        "colab_type": "code",
        "outputId": "82bb870a-c8f0-4cde-febd-c2fc5064a111",
        "colab": {
          "base_uri": "https://localhost:8080/",
          "height": 54
        }
      },
      "source": [
        "x"
      ],
      "execution_count": 0,
      "outputs": [
        {
          "output_type": "execute_result",
          "data": {
            "text/plain": [
              "array([[1, 2, 3, 4],\n",
              "       [4, 5, 6, 7]])"
            ]
          },
          "metadata": {
            "tags": []
          },
          "execution_count": 30
        }
      ]
    },
    {
      "cell_type": "code",
      "metadata": {
        "id": "NjfyyjKfFW2k",
        "colab_type": "code",
        "outputId": "5f4d769b-046e-48e4-8b95-eba21fac1c1b",
        "colab": {
          "base_uri": "https://localhost:8080/",
          "height": 92
        }
      },
      "source": [
        "x.T"
      ],
      "execution_count": 0,
      "outputs": [
        {
          "output_type": "execute_result",
          "data": {
            "text/plain": [
              "array([[1, 4],\n",
              "       [2, 5],\n",
              "       [3, 6],\n",
              "       [4, 7]])"
            ]
          },
          "metadata": {
            "tags": []
          },
          "execution_count": 31
        }
      ]
    },
    {
      "cell_type": "code",
      "metadata": {
        "id": "dO9qn5IDFsI1",
        "colab_type": "code",
        "outputId": "7a0de45e-1d79-4da6-d17e-5a8bbbe2e22e",
        "colab": {
          "base_uri": "https://localhost:8080/",
          "height": 36
        }
      },
      "source": [
        "x.dtype"
      ],
      "execution_count": 0,
      "outputs": [
        {
          "output_type": "execute_result",
          "data": {
            "text/plain": [
              "dtype('int64')"
            ]
          },
          "metadata": {
            "tags": []
          },
          "execution_count": 33
        }
      ]
    },
    {
      "cell_type": "code",
      "metadata": {
        "id": "x1tYVAiZGQNx",
        "colab_type": "code",
        "outputId": "4d05ff42-601c-4b0d-d3fa-c6338cd7d7d2",
        "colab": {
          "base_uri": "https://localhost:8080/",
          "height": 174
        }
      },
      "source": [
        "x.type()"
      ],
      "execution_count": 0,
      "outputs": [
        {
          "output_type": "error",
          "ename": "AttributeError",
          "evalue": "ignored",
          "traceback": [
            "\u001b[0;31m---------------------------------------------------------------------------\u001b[0m",
            "\u001b[0;31mAttributeError\u001b[0m                            Traceback (most recent call last)",
            "\u001b[0;32m<ipython-input-34-902bd9051829>\u001b[0m in \u001b[0;36m<module>\u001b[0;34m()\u001b[0m\n\u001b[0;32m----> 1\u001b[0;31m \u001b[0mx\u001b[0m\u001b[0;34m.\u001b[0m\u001b[0mtype\u001b[0m\u001b[0;34m(\u001b[0m\u001b[0;34m)\u001b[0m\u001b[0;34m\u001b[0m\u001b[0;34m\u001b[0m\u001b[0m\n\u001b[0m",
            "\u001b[0;31mAttributeError\u001b[0m: 'numpy.ndarray' object has no attribute 'type'"
          ]
        }
      ]
    },
    {
      "cell_type": "code",
      "metadata": {
        "id": "ioVp2tLpGVLj",
        "colab_type": "code",
        "outputId": "02dddf57-03b2-42e7-ccc8-b7f470afbd28",
        "colab": {
          "base_uri": "https://localhost:8080/",
          "height": 36
        }
      },
      "source": [
        "type(x)"
      ],
      "execution_count": 0,
      "outputs": [
        {
          "output_type": "execute_result",
          "data": {
            "text/plain": [
              "numpy.ndarray"
            ]
          },
          "metadata": {
            "tags": []
          },
          "execution_count": 36
        }
      ]
    },
    {
      "cell_type": "code",
      "metadata": {
        "id": "etJzM3xrGmFQ",
        "colab_type": "code",
        "outputId": "4f3aac10-b121-41fa-ff64-4c0629aa251f",
        "colab": {
          "base_uri": "https://localhost:8080/",
          "height": 36
        }
      },
      "source": [
        "x.sum()"
      ],
      "execution_count": 0,
      "outputs": [
        {
          "output_type": "execute_result",
          "data": {
            "text/plain": [
              "32"
            ]
          },
          "metadata": {
            "tags": []
          },
          "execution_count": 38
        }
      ]
    },
    {
      "cell_type": "code",
      "metadata": {
        "id": "_2Sx0aeKGm3l",
        "colab_type": "code",
        "outputId": "afe8626e-dd42-4745-b706-679e6dbf6a12",
        "colab": {
          "base_uri": "https://localhost:8080/",
          "height": 36
        }
      },
      "source": [
        "x.max()"
      ],
      "execution_count": 0,
      "outputs": [
        {
          "output_type": "execute_result",
          "data": {
            "text/plain": [
              "7"
            ]
          },
          "metadata": {
            "tags": []
          },
          "execution_count": 39
        }
      ]
    },
    {
      "cell_type": "code",
      "metadata": {
        "id": "fTw297nUGrU8",
        "colab_type": "code",
        "outputId": "035435fe-8935-4664-8570-6aad7ae3ea49",
        "colab": {
          "base_uri": "https://localhost:8080/",
          "height": 36
        }
      },
      "source": [
        "x.min()"
      ],
      "execution_count": 0,
      "outputs": [
        {
          "output_type": "execute_result",
          "data": {
            "text/plain": [
              "1"
            ]
          },
          "metadata": {
            "tags": []
          },
          "execution_count": 40
        }
      ]
    },
    {
      "cell_type": "markdown",
      "metadata": {
        "id": "plYCK-1zG8EO",
        "colab_type": "text"
      },
      "source": [
        "cast the data of an array to float\n"
      ]
    },
    {
      "cell_type": "code",
      "metadata": {
        "id": "6o1aTbh5Gslv",
        "colab_type": "code",
        "outputId": "8dd33eac-71e5-45ba-a120-66a8eda0cd80",
        "colab": {
          "base_uri": "https://localhost:8080/",
          "height": 54
        }
      },
      "source": [
        "x.astype('f')"
      ],
      "execution_count": 37,
      "outputs": [
        {
          "output_type": "execute_result",
          "data": {
            "text/plain": [
              "array([[1., 2., 3., 4.],\n",
              "       [4., 5., 6., 7.]], dtype=float32)"
            ]
          },
          "metadata": {
            "tags": []
          },
          "execution_count": 37
        }
      ]
    },
    {
      "cell_type": "markdown",
      "metadata": {
        "id": "qn3GogubIPgg",
        "colab_type": "text"
      },
      "source": [
        "find the index of the largest value"
      ]
    },
    {
      "cell_type": "code",
      "metadata": {
        "id": "VQT-ExMyHI8-",
        "colab_type": "code",
        "outputId": "3ee79283-2dd7-4968-b5f3-f7fdfdb6ef5b",
        "colab": {
          "base_uri": "https://localhost:8080/",
          "height": 36
        }
      },
      "source": [
        "x.argmax()"
      ],
      "execution_count": 0,
      "outputs": [
        {
          "output_type": "execute_result",
          "data": {
            "text/plain": [
              "7"
            ]
          },
          "metadata": {
            "tags": []
          },
          "execution_count": 44
        }
      ]
    },
    {
      "cell_type": "markdown",
      "metadata": {
        "id": "lp6NDhgfJAnL",
        "colab_type": "text"
      },
      "source": [
        "indexing and slicing\n"
      ]
    },
    {
      "cell_type": "code",
      "metadata": {
        "id": "1uO-J3MDIh13",
        "colab_type": "code",
        "colab": {}
      },
      "source": [
        "k = np.arange(30) ** 2"
      ],
      "execution_count": 0,
      "outputs": []
    },
    {
      "cell_type": "code",
      "metadata": {
        "id": "Eo-beLXNKEpr",
        "colab_type": "code",
        "outputId": "44851f2d-4d91-43e4-912d-5362ce90d8f7",
        "colab": {
          "base_uri": "https://localhost:8080/",
          "height": 73
        }
      },
      "source": [
        "k"
      ],
      "execution_count": 39,
      "outputs": [
        {
          "output_type": "execute_result",
          "data": {
            "text/plain": [
              "array([  0,   1,   4,   9,  16,  25,  36,  49,  64,  81, 100, 121, 144,\n",
              "       169, 196, 225, 256, 289, 324, 361, 400, 441, 484, 529, 576, 625,\n",
              "       676, 729, 784, 841])"
            ]
          },
          "metadata": {
            "tags": []
          },
          "execution_count": 39
        }
      ]
    },
    {
      "cell_type": "code",
      "metadata": {
        "id": "J-nKQdLvKOqX",
        "colab_type": "code",
        "outputId": "deb5693d-4e3b-4236-d548-0b57351f80a2",
        "colab": {
          "base_uri": "https://localhost:8080/",
          "height": 36
        }
      },
      "source": [
        "k[0]"
      ],
      "execution_count": 0,
      "outputs": [
        {
          "output_type": "execute_result",
          "data": {
            "text/plain": [
              "0"
            ]
          },
          "metadata": {
            "tags": []
          },
          "execution_count": 50
        }
      ]
    },
    {
      "cell_type": "code",
      "metadata": {
        "id": "5_hk8B_BKT7v",
        "colab_type": "code",
        "outputId": "6d7b7504-a97b-4c19-9a40-8708b5f35cfd",
        "colab": {
          "base_uri": "https://localhost:8080/",
          "height": 36
        }
      },
      "source": [
        "k[22]"
      ],
      "execution_count": 0,
      "outputs": [
        {
          "output_type": "execute_result",
          "data": {
            "text/plain": [
              "484"
            ]
          },
          "metadata": {
            "tags": []
          },
          "execution_count": 51
        }
      ]
    },
    {
      "cell_type": "code",
      "metadata": {
        "id": "fuMCugJRKVsd",
        "colab_type": "code",
        "outputId": "e6bd0619-35f7-4cad-e9c5-b59e00b13a49",
        "colab": {
          "base_uri": "https://localhost:8080/",
          "height": 36
        }
      },
      "source": [
        "k[0:5]"
      ],
      "execution_count": 0,
      "outputs": [
        {
          "output_type": "execute_result",
          "data": {
            "text/plain": [
              "array([ 0,  1,  4,  9, 16])"
            ]
          },
          "metadata": {
            "tags": []
          },
          "execution_count": 52
        }
      ]
    },
    {
      "cell_type": "code",
      "metadata": {
        "id": "0jzxFowTKeXY",
        "colab_type": "code",
        "outputId": "b5a2ff5f-3f05-4ae4-f593-da2a7fc5a8c4",
        "colab": {
          "base_uri": "https://localhost:8080/",
          "height": 36
        }
      },
      "source": [
        "k[-4:]"
      ],
      "execution_count": 0,
      "outputs": [
        {
          "output_type": "execute_result",
          "data": {
            "text/plain": [
              "array([676, 729, 784, 841])"
            ]
          },
          "metadata": {
            "tags": []
          },
          "execution_count": 53
        }
      ]
    },
    {
      "cell_type": "markdown",
      "metadata": {
        "id": "zLXpmkDfLhIc",
        "colab_type": "text"
      },
      "source": [
        "Getting values from 1 tell 10 and counting forward by two"
      ]
    },
    {
      "cell_type": "code",
      "metadata": {
        "id": "CCaH5TyQLC5m",
        "colab_type": "code",
        "outputId": "8b8cf0c6-0527-4c69-8aa1-8d69b49938d5",
        "colab": {
          "base_uri": "https://localhost:8080/",
          "height": 36
        }
      },
      "source": [
        "k[1:10:2]"
      ],
      "execution_count": 41,
      "outputs": [
        {
          "output_type": "execute_result",
          "data": {
            "text/plain": [
              "array([ 1,  9, 25, 49, 81])"
            ]
          },
          "metadata": {
            "tags": []
          },
          "execution_count": 41
        }
      ]
    },
    {
      "cell_type": "code",
      "metadata": {
        "id": "gpADJabLLcTV",
        "colab_type": "code",
        "colab": {}
      },
      "source": [
        "p = np.arange(36)"
      ],
      "execution_count": 0,
      "outputs": []
    },
    {
      "cell_type": "code",
      "metadata": {
        "id": "yPJ8CcncNrwk",
        "colab_type": "code",
        "outputId": "772c259a-b5e9-4329-8b5c-5e8a40e79041",
        "colab": {
          "base_uri": "https://localhost:8080/",
          "height": 73
        }
      },
      "source": [
        "p"
      ],
      "execution_count": 44,
      "outputs": [
        {
          "output_type": "execute_result",
          "data": {
            "text/plain": [
              "array([ 0,  1,  2,  3,  4,  5,  6,  7,  8,  9, 10, 11, 12, 13, 14, 15, 16,\n",
              "       17, 18, 19, 20, 21, 22, 23, 24, 25, 26, 27, 28, 29, 30, 31, 32, 33,\n",
              "       34, 35])"
            ]
          },
          "metadata": {
            "tags": []
          },
          "execution_count": 44
        }
      ]
    },
    {
      "cell_type": "code",
      "metadata": {
        "id": "FkFIPSmeNu2D",
        "colab_type": "code",
        "outputId": "2dd019cc-6d1d-4e93-e939-f64cd7855359",
        "colab": {
          "base_uri": "https://localhost:8080/",
          "height": 129
        }
      },
      "source": [
        "p.reshape(6,6)"
      ],
      "execution_count": 0,
      "outputs": [
        {
          "output_type": "execute_result",
          "data": {
            "text/plain": [
              "array([[ 0,  1,  2,  3,  4,  5],\n",
              "       [ 6,  7,  8,  9, 10, 11],\n",
              "       [12, 13, 14, 15, 16, 17],\n",
              "       [18, 19, 20, 21, 22, 23],\n",
              "       [24, 25, 26, 27, 28, 29],\n",
              "       [30, 31, 32, 33, 34, 35]])"
            ]
          },
          "metadata": {
            "tags": []
          },
          "execution_count": 58
        }
      ]
    },
    {
      "cell_type": "code",
      "metadata": {
        "id": "KTzUmqIDN2bI",
        "colab_type": "code",
        "outputId": "89f7cf34-39c9-4252-de64-cd61d87da4d5",
        "colab": {
          "base_uri": "https://localhost:8080/",
          "height": 73
        }
      },
      "source": [
        "p"
      ],
      "execution_count": 0,
      "outputs": [
        {
          "output_type": "execute_result",
          "data": {
            "text/plain": [
              "array([ 0,  1,  2,  3,  4,  5,  6,  7,  8,  9, 10, 11, 12, 13, 14, 15, 16,\n",
              "       17, 18, 19, 20, 21, 22, 23, 24, 25, 26, 27, 28, 29, 30, 31, 32, 33,\n",
              "       34, 35])"
            ]
          },
          "metadata": {
            "tags": []
          },
          "execution_count": 59
        }
      ]
    },
    {
      "cell_type": "code",
      "metadata": {
        "id": "y-PJ2Vz1N6Bo",
        "colab_type": "code",
        "colab": {}
      },
      "source": [
        "p.resize(6,6)"
      ],
      "execution_count": 0,
      "outputs": []
    },
    {
      "cell_type": "code",
      "metadata": {
        "id": "U25myFiTs3n2",
        "colab_type": "code",
        "colab": {
          "base_uri": "https://localhost:8080/",
          "height": 36
        },
        "outputId": "f5bdab00-5e6d-4830-bd18-5808faeb6ad9"
      },
      "source": [
        "p.reshape(36)[::7]"
      ],
      "execution_count": 59,
      "outputs": [
        {
          "output_type": "execute_result",
          "data": {
            "text/plain": [
              "array([ 0,  7, 14, 21, 28, 35])"
            ]
          },
          "metadata": {
            "tags": []
          },
          "execution_count": 59
        }
      ]
    },
    {
      "cell_type": "code",
      "metadata": {
        "id": "JM9AbtQ1OARK",
        "colab_type": "code",
        "outputId": "c30d1ba0-c24f-446f-9fc8-5e12a9e51620",
        "colab": {
          "base_uri": "https://localhost:8080/",
          "height": 36
        }
      },
      "source": [
        "p[::7]"
      ],
      "execution_count": 58,
      "outputs": [
        {
          "output_type": "execute_result",
          "data": {
            "text/plain": [
              "array([[0, 1, 2, 3, 4, 5]])"
            ]
          },
          "metadata": {
            "tags": []
          },
          "execution_count": 58
        }
      ]
    },
    {
      "cell_type": "markdown",
      "metadata": {
        "id": "vrEy4bMOPXYj",
        "colab_type": "text"
      },
      "source": [
        "Indexing MultiDimensional arrays , second row from 3 to 5"
      ]
    },
    {
      "cell_type": "code",
      "metadata": {
        "id": "smEaDKEwOBb0",
        "colab_type": "code",
        "outputId": "a1332cb5-5c38-4ce6-93ed-64ede382ae25",
        "colab": {
          "base_uri": "https://localhost:8080/",
          "height": 36
        }
      },
      "source": [
        "p[2,3:5]"
      ],
      "execution_count": 0,
      "outputs": [
        {
          "output_type": "execute_result",
          "data": {
            "text/plain": [
              "array([15, 16])"
            ]
          },
          "metadata": {
            "tags": []
          },
          "execution_count": 63
        }
      ]
    },
    {
      "cell_type": "markdown",
      "metadata": {
        "id": "0mW8p5NNQ_mz",
        "colab_type": "text"
      },
      "source": [
        "p2 here is referencing p\n",
        "\n"
      ]
    },
    {
      "cell_type": "code",
      "metadata": {
        "id": "UeHn-KC0QKgK",
        "colab_type": "code",
        "colab": {}
      },
      "source": [
        "p2 = p[3,2:6]"
      ],
      "execution_count": 0,
      "outputs": []
    },
    {
      "cell_type": "code",
      "metadata": {
        "id": "CVtRp7zMQ8cD",
        "colab_type": "code",
        "outputId": "68006929-fbc7-4ea8-d8c2-4e4a12e802e1",
        "colab": {
          "base_uri": "https://localhost:8080/",
          "height": 36
        }
      },
      "source": [
        "p2"
      ],
      "execution_count": 0,
      "outputs": [
        {
          "output_type": "execute_result",
          "data": {
            "text/plain": [
              "array([20, 21, 22, 23])"
            ]
          },
          "metadata": {
            "tags": []
          },
          "execution_count": 65
        }
      ]
    },
    {
      "cell_type": "code",
      "metadata": {
        "id": "99bZA06UQ9wY",
        "colab_type": "code",
        "colab": {}
      },
      "source": [
        "p2[:] = 0"
      ],
      "execution_count": 0,
      "outputs": []
    },
    {
      "cell_type": "code",
      "metadata": {
        "id": "gaARDQZaR4z-",
        "colab_type": "code",
        "outputId": "07f065d0-0bda-45a0-d8cb-256c73d72ab8",
        "colab": {
          "base_uri": "https://localhost:8080/",
          "height": 129
        }
      },
      "source": [
        "p"
      ],
      "execution_count": 0,
      "outputs": [
        {
          "output_type": "execute_result",
          "data": {
            "text/plain": [
              "array([[ 0,  1,  2,  3,  4,  5],\n",
              "       [ 6,  7,  8,  9, 10, 11],\n",
              "       [12, 13, 14, 15, 16, 17],\n",
              "       [18, 19,  0,  0,  0,  0],\n",
              "       [24, 25, 26, 27, 28, 29],\n",
              "       [30, 31, 32, 33, 34, 35]])"
            ]
          },
          "metadata": {
            "tags": []
          },
          "execution_count": 68
        }
      ]
    },
    {
      "cell_type": "code",
      "metadata": {
        "id": "g97gK9ByR5N8",
        "colab_type": "code",
        "colab": {}
      },
      "source": [
        "p3 = p.copy()"
      ],
      "execution_count": 0,
      "outputs": []
    },
    {
      "cell_type": "markdown",
      "metadata": {
        "id": "0JsL47PxRqzC",
        "colab_type": "text"
      },
      "source": [
        "Iterating through arrays"
      ]
    },
    {
      "cell_type": "markdown",
      "metadata": {
        "id": "c_r98MXwQtLx",
        "colab_type": "text"
      },
      "source": [
        "Generate a numpy array of random inetegrs. Structure : (From , To , shape)"
      ]
    },
    {
      "cell_type": "code",
      "metadata": {
        "id": "LkLSZUiDScEg",
        "colab_type": "code",
        "colab": {}
      },
      "source": [
        "randomArray = np.random.randint(1,20,(3,3))"
      ],
      "execution_count": 0,
      "outputs": []
    },
    {
      "cell_type": "code",
      "metadata": {
        "id": "Ca2cu5vdRSMp",
        "colab_type": "code",
        "colab": {
          "base_uri": "https://localhost:8080/",
          "height": 73
        },
        "outputId": "fd962e23-6d49-4d4b-dcbe-b660b5c84b31"
      },
      "source": [
        "randomArray"
      ],
      "execution_count": 4,
      "outputs": [
        {
          "output_type": "execute_result",
          "data": {
            "text/plain": [
              "array([[ 3, 18, 18],\n",
              "       [ 2,  6, 14],\n",
              "       [11, 19, 19]])"
            ]
          },
          "metadata": {
            "tags": []
          },
          "execution_count": 4
        }
      ]
    },
    {
      "cell_type": "markdown",
      "metadata": {
        "id": "kq4BttZ4RjZN",
        "colab_type": "text"
      },
      "source": [
        "Iterate through the rows"
      ]
    },
    {
      "cell_type": "code",
      "metadata": {
        "id": "pTPVxBZ-RUYO",
        "colab_type": "code",
        "colab": {
          "base_uri": "https://localhost:8080/",
          "height": 73
        },
        "outputId": "dffb6af1-19c6-40ea-e720-43abd1327afd"
      },
      "source": [
        "for row in randomArray:\n",
        "  print(row)\n"
      ],
      "execution_count": 6,
      "outputs": [
        {
          "output_type": "stream",
          "text": [
            "[ 3 18 18]\n",
            "[ 2  6 14]\n",
            "[11 19 19]\n"
          ],
          "name": "stdout"
        }
      ]
    },
    {
      "cell_type": "markdown",
      "metadata": {
        "id": "LDYQJvOMRz1e",
        "colab_type": "text"
      },
      "source": [
        "iterating using the index, RANGE function will ny defualt start from zero to the specified index"
      ]
    },
    {
      "cell_type": "code",
      "metadata": {
        "id": "PcTozLYERyUl",
        "colab_type": "code",
        "colab": {
          "base_uri": "https://localhost:8080/",
          "height": 73
        },
        "outputId": "198d2fd1-34eb-405c-eda2-3f280f1a615c"
      },
      "source": [
        "for i in range(len(randomArray)):\n",
        "  print(randomArray[i])\n"
      ],
      "execution_count": 7,
      "outputs": [
        {
          "output_type": "stream",
          "text": [
            "[ 3 18 18]\n",
            "[ 2  6 14]\n",
            "[11 19 19]\n"
          ],
          "name": "stdout"
        }
      ]
    },
    {
      "cell_type": "markdown",
      "metadata": {
        "id": "olXw1Z80S-Br",
        "colab_type": "text"
      },
      "source": [
        "the enumerate function iterates through both the index and the row"
      ]
    },
    {
      "cell_type": "code",
      "metadata": {
        "id": "pa8LgkF1SmBq",
        "colab_type": "code",
        "colab": {
          "base_uri": "https://localhost:8080/",
          "height": 73
        },
        "outputId": "15cc0f51-00ca-4807-b32a-7f168188b30f"
      },
      "source": [
        "for i,row in enumerate(randomArray):\n",
        "  print(\"row {} is  {}\".format(i,row))"
      ],
      "execution_count": 9,
      "outputs": [
        {
          "output_type": "stream",
          "text": [
            "row 0 is  [ 3 18 18]\n",
            "row 1 is  [ 2  6 14]\n",
            "row 2 is  [11 19 19]\n"
          ],
          "name": "stdout"
        }
      ]
    },
    {
      "cell_type": "markdown",
      "metadata": {
        "id": "YToo9p6EXDMQ",
        "colab_type": "text"
      },
      "source": [
        "iterating through multiple arrays at once"
      ]
    },
    {
      "cell_type": "code",
      "metadata": {
        "id": "KosLPfyRTOEB",
        "colab_type": "code",
        "colab": {}
      },
      "source": [
        "array2 = np.random.randint(2,8,(3,3))"
      ],
      "execution_count": 0,
      "outputs": []
    },
    {
      "cell_type": "code",
      "metadata": {
        "id": "hEk6-lJ3XPa5",
        "colab_type": "code",
        "colab": {
          "base_uri": "https://localhost:8080/",
          "height": 73
        },
        "outputId": "21a4b7d0-0806-4721-b4e0-079d73ddbf82"
      },
      "source": [
        "for i,j in zip(randomArray,array2):\n",
        "  print(i,j)"
      ],
      "execution_count": 11,
      "outputs": [
        {
          "output_type": "stream",
          "text": [
            "[ 3 18 18] [6 3 4]\n",
            "[ 2  6 14] [7 4 7]\n",
            "[11 19 19] [3 6 7]\n"
          ],
          "name": "stdout"
        }
      ]
    },
    {
      "cell_type": "code",
      "metadata": {
        "id": "WxTvrZcJXV4O",
        "colab_type": "code",
        "colab": {
          "base_uri": "https://localhost:8080/",
          "height": 36
        },
        "outputId": "de31b1a0-879d-4787-aba8-8b5d8d7aa321"
      },
      "source": [
        "['a', 'b', 'c'] + [1, 2, 3]"
      ],
      "execution_count": 42,
      "outputs": [
        {
          "output_type": "execute_result",
          "data": {
            "text/plain": [
              "['a', 'b', 'c', 1, 2, 3]"
            ]
          },
          "metadata": {
            "tags": []
          },
          "execution_count": 42
        }
      ]
    }
  ]
}