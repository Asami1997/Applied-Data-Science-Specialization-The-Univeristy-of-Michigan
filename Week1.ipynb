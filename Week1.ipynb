{
  "nbformat": 4,
  "nbformat_minor": 0,
  "metadata": {
    "colab": {
      "name": "Week1.ipynb",
      "provenance": [],
      "collapsed_sections": [],
      "mount_file_id": "https://github.com/Asami1997/Applied-Data-Science-Specialization-The-University-of-Michigan/blob/master/Week1.ipynb",
      "authorship_tag": "ABX9TyOHHlk4aKkKLOOwA66Ohs0w",
      "include_colab_link": true
    },
    "kernelspec": {
      "name": "python3",
      "display_name": "Python 3"
    }
  },
  "cells": [
    {
      "cell_type": "markdown",
      "metadata": {
        "id": "view-in-github",
        "colab_type": "text"
      },
      "source": [
        "<a href=\"https://colab.research.google.com/github/Asami1997/Applied-Data-Science-Specialization-The-University-of-Michigan/blob/master/Week1.ipynb\" target=\"_parent\"><img src=\"https://colab.research.google.com/assets/colab-badge.svg\" alt=\"Open In Colab\"/></a>"
      ]
    },
    {
      "cell_type": "code",
      "metadata": {
        "id": "IzRR6LeG074x",
        "colab_type": "code",
        "colab": {}
      },
      "source": [
        "def addNumbers(x,y):\n",
        "  return x+y"
      ],
      "execution_count": 0,
      "outputs": []
    },
    {
      "cell_type": "code",
      "metadata": {
        "id": "TSg9MrhG4DCw",
        "colab_type": "code",
        "outputId": "68cefdae-d328-4be6-f256-2fa931f1bad1",
        "colab": {
          "base_uri": "https://localhost:8080/",
          "height": 36
        }
      },
      "source": [
        "addNumbers(2,3)"
      ],
      "execution_count": 0,
      "outputs": [
        {
          "output_type": "execute_result",
          "data": {
            "text/plain": [
              "5"
            ]
          },
          "metadata": {
            "tags": []
          },
          "execution_count": 5
        }
      ]
    },
    {
      "cell_type": "code",
      "metadata": {
        "id": "Sy0fvkXW7KPt",
        "colab_type": "code",
        "colab": {}
      },
      "source": [
        "def addNumbersOptional(x, y, z = None):\n",
        "  if (z == None):\n",
        "    return x+y\n",
        "  else:\n",
        "    return x+y+z"
      ],
      "execution_count": 0,
      "outputs": []
    },
    {
      "cell_type": "code",
      "metadata": {
        "id": "LhV3IxNl7yrs",
        "colab_type": "code",
        "outputId": "629062dc-1b21-4c51-f01e-fc07d930cc0c",
        "colab": {
          "base_uri": "https://localhost:8080/",
          "height": 36
        }
      },
      "source": [
        "addNumbersOptional(1,2,3)"
      ],
      "execution_count": 0,
      "outputs": [
        {
          "output_type": "execute_result",
          "data": {
            "text/plain": [
              "6"
            ]
          },
          "metadata": {
            "tags": []
          },
          "execution_count": 7
        }
      ]
    },
    {
      "cell_type": "code",
      "metadata": {
        "id": "yt3Tfs0d71X6",
        "colab_type": "code",
        "outputId": "1a60eea8-3cea-47ae-ae8d-9c99b7e51648",
        "colab": {
          "base_uri": "https://localhost:8080/",
          "height": 36
        }
      },
      "source": [
        "addNumbersOptional(3,3)"
      ],
      "execution_count": 0,
      "outputs": [
        {
          "output_type": "execute_result",
          "data": {
            "text/plain": [
              "6"
            ]
          },
          "metadata": {
            "tags": []
          },
          "execution_count": 8
        }
      ]
    },
    {
      "cell_type": "code",
      "metadata": {
        "id": "0Qz_EKwe77jR",
        "colab_type": "code",
        "outputId": "4ed84f33-cdca-4048-c764-0a5b47fe5511",
        "colab": {
          "base_uri": "https://localhost:8080/",
          "height": 36
        }
      },
      "source": [
        "def addNumbersOverLoaded(x, y, kind='sub'):\n",
        "  if (kind == 'add'):\n",
        "    return x+y\n",
        "  else:\n",
        "    return x-y\n",
        "\n",
        "addNumbersOverLoaded(3,4,kind = 'add')"
      ],
      "execution_count": 0,
      "outputs": [
        {
          "output_type": "execute_result",
          "data": {
            "text/plain": [
              "7"
            ]
          },
          "metadata": {
            "tags": []
          },
          "execution_count": 10
        }
      ]
    },
    {
      "cell_type": "code",
      "metadata": {
        "id": "wFSK2HB6AiMb",
        "colab_type": "code",
        "outputId": "aa22077d-9510-47c1-dcdc-877e2ba70d9f",
        "colab": {
          "base_uri": "https://localhost:8080/",
          "height": 36
        }
      },
      "source": [
        "type('this is a string')"
      ],
      "execution_count": 0,
      "outputs": [
        {
          "output_type": "execute_result",
          "data": {
            "text/plain": [
              "str"
            ]
          },
          "metadata": {
            "tags": []
          },
          "execution_count": 12
        }
      ]
    },
    {
      "cell_type": "code",
      "metadata": {
        "id": "Ehih8riYKYjV",
        "colab_type": "code",
        "colab": {}
      },
      "source": [
        "x = (1,1.3,'string')"
      ],
      "execution_count": 0,
      "outputs": []
    },
    {
      "cell_type": "code",
      "metadata": {
        "id": "vTVhoVXXKm6V",
        "colab_type": "code",
        "outputId": "5a91f992-e515-4e74-caf2-08559ac50985",
        "colab": {
          "base_uri": "https://localhost:8080/",
          "height": 36
        }
      },
      "source": [
        "x"
      ],
      "execution_count": 0,
      "outputs": [
        {
          "output_type": "execute_result",
          "data": {
            "text/plain": [
              "(1, 1.3, 'string')"
            ]
          },
          "metadata": {
            "tags": []
          },
          "execution_count": 14
        }
      ]
    },
    {
      "cell_type": "code",
      "metadata": {
        "id": "xRN8EhY8KnhC",
        "colab_type": "code",
        "colab": {}
      },
      "source": [
        "y = [1,'string',2]"
      ],
      "execution_count": 0,
      "outputs": []
    },
    {
      "cell_type": "code",
      "metadata": {
        "id": "OgGc3hrjLDlN",
        "colab_type": "code",
        "outputId": "5180b141-e6ad-46a3-ef82-1f16691aea7d",
        "colab": {
          "base_uri": "https://localhost:8080/",
          "height": 36
        }
      },
      "source": [
        "y"
      ],
      "execution_count": 0,
      "outputs": [
        {
          "output_type": "execute_result",
          "data": {
            "text/plain": [
              "[1, 'string', 2]"
            ]
          },
          "metadata": {
            "tags": []
          },
          "execution_count": 17
        }
      ]
    },
    {
      "cell_type": "code",
      "metadata": {
        "id": "qO2uilBsLGlV",
        "colab_type": "code",
        "colab": {}
      },
      "source": [
        "y.append(3)"
      ],
      "execution_count": 0,
      "outputs": []
    },
    {
      "cell_type": "code",
      "metadata": {
        "id": "vWD3XtsVLJtO",
        "colab_type": "code",
        "outputId": "9f1db703-a3f1-4383-e564-254ca31a448d",
        "colab": {
          "base_uri": "https://localhost:8080/",
          "height": 36
        }
      },
      "source": [
        "y"
      ],
      "execution_count": 0,
      "outputs": [
        {
          "output_type": "execute_result",
          "data": {
            "text/plain": [
              "[1, 'string', 2, 3]"
            ]
          },
          "metadata": {
            "tags": []
          },
          "execution_count": 19
        }
      ]
    },
    {
      "cell_type": "code",
      "metadata": {
        "id": "FYjIDCKELK2V",
        "colab_type": "code",
        "outputId": "ca8156ca-720e-4969-c9d1-5dfb168af3bd",
        "colab": {
          "base_uri": "https://localhost:8080/",
          "height": 173
        }
      },
      "source": [
        "y[4]"
      ],
      "execution_count": 0,
      "outputs": [
        {
          "output_type": "error",
          "ename": "IndexError",
          "evalue": "ignored",
          "traceback": [
            "\u001b[0;31m---------------------------------------------------------------------------\u001b[0m",
            "\u001b[0;31mIndexError\u001b[0m                                Traceback (most recent call last)",
            "\u001b[0;32m<ipython-input-20-5f31d1a0a290>\u001b[0m in \u001b[0;36m<module>\u001b[0;34m()\u001b[0m\n\u001b[0;32m----> 1\u001b[0;31m \u001b[0my\u001b[0m\u001b[0;34m[\u001b[0m\u001b[0;36m4\u001b[0m\u001b[0;34m]\u001b[0m\u001b[0;34m\u001b[0m\u001b[0;34m\u001b[0m\u001b[0m\n\u001b[0m",
            "\u001b[0;31mIndexError\u001b[0m: list index out of range"
          ]
        }
      ]
    },
    {
      "cell_type": "code",
      "metadata": {
        "id": "WCSWcgGiLMeN",
        "colab_type": "code",
        "outputId": "21b1d6ce-5f5d-4c25-b4c1-8d30f7cfd564",
        "colab": {
          "base_uri": "https://localhost:8080/",
          "height": 36
        }
      },
      "source": [
        "y[2]"
      ],
      "execution_count": 0,
      "outputs": [
        {
          "output_type": "execute_result",
          "data": {
            "text/plain": [
              "2"
            ]
          },
          "metadata": {
            "tags": []
          },
          "execution_count": 21
        }
      ]
    },
    {
      "cell_type": "code",
      "metadata": {
        "id": "j_4pHUL1LOlv",
        "colab_type": "code",
        "colab": {}
      },
      "source": [
        "y[2] = 4"
      ],
      "execution_count": 0,
      "outputs": []
    },
    {
      "cell_type": "code",
      "metadata": {
        "id": "N_5zW_MKLQ1M",
        "colab_type": "code",
        "outputId": "736bfb81-920e-4615-c3a9-2d2492e8a2cd",
        "colab": {
          "base_uri": "https://localhost:8080/",
          "height": 36
        }
      },
      "source": [
        "y"
      ],
      "execution_count": 0,
      "outputs": [
        {
          "output_type": "execute_result",
          "data": {
            "text/plain": [
              "[1, 'string', 4, 3]"
            ]
          },
          "metadata": {
            "tags": []
          },
          "execution_count": 23
        }
      ]
    },
    {
      "cell_type": "code",
      "metadata": {
        "id": "sHAN0vodLRXN",
        "colab_type": "code",
        "outputId": "fa78855c-26e7-462a-dc0f-e4293362e337",
        "colab": {
          "base_uri": "https://localhost:8080/",
          "height": 91
        }
      },
      "source": [
        "for item in y:\n",
        "  print(item)"
      ],
      "execution_count": 0,
      "outputs": [
        {
          "output_type": "stream",
          "text": [
            "1\n",
            "string\n",
            "4\n",
            "3\n"
          ],
          "name": "stdout"
        }
      ]
    },
    {
      "cell_type": "markdown",
      "metadata": {
        "id": "C2ui9lzfMJ-e",
        "colab_type": "text"
      },
      "source": [
        "concatinating lists"
      ]
    },
    {
      "cell_type": "code",
      "metadata": {
        "id": "xMpt9bnkMOgZ",
        "colab_type": "code",
        "outputId": "bc782cd9-28eb-4674-fda8-5c11886f3261",
        "colab": {
          "base_uri": "https://localhost:8080/",
          "height": 36
        }
      },
      "source": [
        "[1,2,3,4] + [5,6,6,8]"
      ],
      "execution_count": 0,
      "outputs": [
        {
          "output_type": "execute_result",
          "data": {
            "text/plain": [
              "[1, 2, 3, 4, 5, 6, 6, 8]"
            ]
          },
          "metadata": {
            "tags": []
          },
          "execution_count": 25
        }
      ]
    },
    {
      "cell_type": "markdown",
      "metadata": {
        "id": "h7KR6wqYM5da",
        "colab_type": "text"
      },
      "source": [
        "Repeating a value"
      ]
    },
    {
      "cell_type": "code",
      "metadata": {
        "id": "XwE73HlkM71D",
        "colab_type": "code",
        "outputId": "b0fbd5dc-cf77-4bc4-e03a-52594060f7ff",
        "colab": {
          "base_uri": "https://localhost:8080/",
          "height": 36
        }
      },
      "source": [
        "[3] * 2"
      ],
      "execution_count": 0,
      "outputs": [
        {
          "output_type": "execute_result",
          "data": {
            "text/plain": [
              "[3, 3]"
            ]
          },
          "metadata": {
            "tags": []
          },
          "execution_count": 26
        }
      ]
    },
    {
      "cell_type": "markdown",
      "metadata": {
        "id": "4NkTB3yfNPzy",
        "colab_type": "text"
      },
      "source": [
        "\n",
        "\n",
        "```\n",
        "# This is formatted as code\n",
        "```\n",
        "\n",
        "Check for set membership ( returns boolean )"
      ]
    },
    {
      "cell_type": "code",
      "metadata": {
        "id": "plJmTAX2NSOa",
        "colab_type": "code",
        "outputId": "519f48e2-7ef7-43f1-8844-54278e989a91",
        "colab": {
          "base_uri": "https://localhost:8080/",
          "height": 36
        }
      },
      "source": [
        "1 in [1,3,4,5]"
      ],
      "execution_count": 0,
      "outputs": [
        {
          "output_type": "execute_result",
          "data": {
            "text/plain": [
              "True"
            ]
          },
          "metadata": {
            "tags": []
          },
          "execution_count": 27
        }
      ]
    },
    {
      "cell_type": "markdown",
      "metadata": {
        "id": "vitASnhatj9O",
        "colab_type": "text"
      },
      "source": [
        "Slicing"
      ]
    },
    {
      "cell_type": "code",
      "metadata": {
        "id": "Uh0rl4udtlcS",
        "colab_type": "code",
        "colab": {}
      },
      "source": [
        "x = [1,2,3,4,5]"
      ],
      "execution_count": 0,
      "outputs": []
    },
    {
      "cell_type": "code",
      "metadata": {
        "id": "6j-BAH6Xtt4e",
        "colab_type": "code",
        "outputId": "25d9add7-847f-416c-dd62-e9dc0fd483c5",
        "colab": {
          "base_uri": "https://localhost:8080/",
          "height": 36
        }
      },
      "source": [
        "x[1:2]"
      ],
      "execution_count": 0,
      "outputs": [
        {
          "output_type": "execute_result",
          "data": {
            "text/plain": [
              "[2]"
            ]
          },
          "metadata": {
            "tags": []
          },
          "execution_count": 2
        }
      ]
    },
    {
      "cell_type": "code",
      "metadata": {
        "id": "UAf4ud8Tt0no",
        "colab_type": "code",
        "outputId": "5f9b2d01-be04-4dd1-cb58-d053e028a78e",
        "colab": {
          "base_uri": "https://localhost:8080/",
          "height": 36
        }
      },
      "source": [
        "x[2:]"
      ],
      "execution_count": 0,
      "outputs": [
        {
          "output_type": "execute_result",
          "data": {
            "text/plain": [
              "[3, 4, 5]"
            ]
          },
          "metadata": {
            "tags": []
          },
          "execution_count": 3
        }
      ]
    },
    {
      "cell_type": "code",
      "metadata": {
        "id": "4svF56YJt8X9",
        "colab_type": "code",
        "outputId": "c30d3cff-486f-4621-f023-8759e17dfb50",
        "colab": {
          "base_uri": "https://localhost:8080/",
          "height": 36
        }
      },
      "source": [
        "x[2:5]"
      ],
      "execution_count": 0,
      "outputs": [
        {
          "output_type": "execute_result",
          "data": {
            "text/plain": [
              "[3, 4, 5]"
            ]
          },
          "metadata": {
            "tags": []
          },
          "execution_count": 4
        }
      ]
    },
    {
      "cell_type": "code",
      "metadata": {
        "id": "3xdaHd58uCkm",
        "colab_type": "code",
        "outputId": "452a1ade-8a77-4fc4-c38d-d150fa8b89a5",
        "colab": {
          "base_uri": "https://localhost:8080/",
          "height": 36
        }
      },
      "source": [
        "x[2:4]"
      ],
      "execution_count": 0,
      "outputs": [
        {
          "output_type": "execute_result",
          "data": {
            "text/plain": [
              "[3, 4]"
            ]
          },
          "metadata": {
            "tags": []
          },
          "execution_count": 5
        }
      ]
    },
    {
      "cell_type": "code",
      "metadata": {
        "id": "BilmvqXluKI5",
        "colab_type": "code",
        "outputId": "69340f81-40a8-4be0-c797-6cc1d379fa3f",
        "colab": {
          "base_uri": "https://localhost:8080/",
          "height": 36
        }
      },
      "source": [
        "x[2:6]"
      ],
      "execution_count": 0,
      "outputs": [
        {
          "output_type": "execute_result",
          "data": {
            "text/plain": [
              "[3, 4, 5]"
            ]
          },
          "metadata": {
            "tags": []
          },
          "execution_count": 6
        }
      ]
    },
    {
      "cell_type": "code",
      "metadata": {
        "id": "D4ew16vMuN8L",
        "colab_type": "code",
        "colab": {}
      },
      "source": [
        "firstName = \"Ahmad\"\n",
        "lastName  = \"Hussein\"\n",
        "fullName = firstName + lastName"
      ],
      "execution_count": 0,
      "outputs": []
    },
    {
      "cell_type": "code",
      "metadata": {
        "id": "buIP-i7Hv5tQ",
        "colab_type": "code",
        "outputId": "376b52f9-6384-4482-d626-55d181ab5f9b",
        "colab": {
          "base_uri": "https://localhost:8080/",
          "height": 36
        }
      },
      "source": [
        "fullName"
      ],
      "execution_count": 0,
      "outputs": [
        {
          "output_type": "execute_result",
          "data": {
            "text/plain": [
              "'AhmadHussein'"
            ]
          },
          "metadata": {
            "tags": []
          },
          "execution_count": 8
        }
      ]
    },
    {
      "cell_type": "code",
      "metadata": {
        "id": "zvmz9r4lv7oh",
        "colab_type": "code",
        "outputId": "b45613d9-2f16-4743-e2ae-d1a887661ea1",
        "colab": {
          "base_uri": "https://localhost:8080/",
          "height": 36
        }
      },
      "source": [
        "firstName * 5"
      ],
      "execution_count": 0,
      "outputs": [
        {
          "output_type": "execute_result",
          "data": {
            "text/plain": [
              "'AhmadAhmadAhmadAhmadAhmad'"
            ]
          },
          "metadata": {
            "tags": []
          },
          "execution_count": 9
        }
      ]
    },
    {
      "cell_type": "markdown",
      "metadata": {
        "id": "E_rHpm0YxmwN",
        "colab_type": "text"
      },
      "source": [
        "Split on white spaces then return the first element in the new list"
      ]
    },
    {
      "cell_type": "code",
      "metadata": {
        "id": "qnsrpHAjv-ep",
        "colab_type": "code",
        "outputId": "167ac46c-38ec-4ba4-8862-820a82f51bca",
        "colab": {
          "base_uri": "https://localhost:8080/",
          "height": 36
        }
      },
      "source": [
        "firstName = \"Ahmad Sami Hussein\".split(\" \")[0]\n",
        "firstName"
      ],
      "execution_count": 0,
      "outputs": [
        {
          "output_type": "execute_result",
          "data": {
            "text/plain": [
              "'Ahmad'"
            ]
          },
          "metadata": {
            "tags": []
          },
          "execution_count": 11
        }
      ]
    },
    {
      "cell_type": "code",
      "metadata": {
        "id": "v-BBQr5vxUss",
        "colab_type": "code",
        "colab": {}
      },
      "source": [
        "emailsDictionary = {'Ahmad' : \"asami1997@gmaill.com\", 'Jhon' : \"jhon@gmail.com\"}"
      ],
      "execution_count": 0,
      "outputs": []
    },
    {
      "cell_type": "code",
      "metadata": {
        "id": "UigxMBc9yrqk",
        "colab_type": "code",
        "outputId": "694707e1-5379-43f6-ea12-274803042eda",
        "colab": {
          "base_uri": "https://localhost:8080/",
          "height": 36
        }
      },
      "source": [
        "emailsDictionary['Ahmad']"
      ],
      "execution_count": 0,
      "outputs": [
        {
          "output_type": "execute_result",
          "data": {
            "text/plain": [
              "'asami1997@gmaill.com'"
            ]
          },
          "metadata": {
            "tags": []
          },
          "execution_count": 13
        }
      ]
    },
    {
      "cell_type": "code",
      "metadata": {
        "id": "qWxnbGa-01wp",
        "colab_type": "code",
        "outputId": "cf372045-1871-4283-80b4-8635c27dd6a8",
        "colab": {
          "base_uri": "https://localhost:8080/",
          "height": 54
        }
      },
      "source": [
        "for key in emailsDictionary.keys():\n",
        "  print(key)"
      ],
      "execution_count": 0,
      "outputs": [
        {
          "output_type": "stream",
          "text": [
            "Ahmad\n",
            "Jhon\n"
          ],
          "name": "stdout"
        }
      ]
    },
    {
      "cell_type": "code",
      "metadata": {
        "id": "FSMYDPpq099K",
        "colab_type": "code",
        "outputId": "d59266ab-d2e5-49ca-aece-64147951867b",
        "colab": {
          "base_uri": "https://localhost:8080/",
          "height": 92
        }
      },
      "source": [
        "for name,email in emailsDictionary.items():\n",
        "  print(name)\n",
        "  print(email)"
      ],
      "execution_count": 0,
      "outputs": [
        {
          "output_type": "stream",
          "text": [
            "Ahmad\n",
            "asami1997@gmaill.com\n",
            "Jhon\n",
            "jhon@gmail.com\n"
          ],
          "name": "stdout"
        }
      ]
    },
    {
      "cell_type": "code",
      "metadata": {
        "id": "uZt2flGp1M18",
        "colab_type": "code",
        "colab": {}
      },
      "source": [
        "x = (\"Ahmad\",\"Hussein\",\"asami1997@gmail.com\")"
      ],
      "execution_count": 0,
      "outputs": []
    },
    {
      "cell_type": "markdown",
      "metadata": {
        "id": "wwdn_-fj1-ok",
        "colab_type": "text"
      },
      "source": [
        "Unpacking the tuple through assignment"
      ]
    },
    {
      "cell_type": "code",
      "metadata": {
        "id": "x_BodgaS18Ha",
        "colab_type": "code",
        "colab": {}
      },
      "source": [
        "firstName,lastName,email = x"
      ],
      "execution_count": 0,
      "outputs": []
    },
    {
      "cell_type": "code",
      "metadata": {
        "id": "ai2jvVNK2MkK",
        "colab_type": "code",
        "outputId": "9780491f-dd1f-4f8c-ab19-abb044a5ed0d",
        "colab": {
          "base_uri": "https://localhost:8080/",
          "height": 36
        }
      },
      "source": [
        "firstName"
      ],
      "execution_count": 0,
      "outputs": [
        {
          "output_type": "execute_result",
          "data": {
            "text/plain": [
              "'Ahmad'"
            ]
          },
          "metadata": {
            "tags": []
          },
          "execution_count": 19
        }
      ]
    },
    {
      "cell_type": "code",
      "metadata": {
        "id": "0WuzkhIB2PYF",
        "colab_type": "code",
        "outputId": "18a73220-57f1-4057-8bae-02788db73859",
        "colab": {
          "base_uri": "https://localhost:8080/",
          "height": 36
        }
      },
      "source": [
        "email"
      ],
      "execution_count": 0,
      "outputs": [
        {
          "output_type": "execute_result",
          "data": {
            "text/plain": [
              "'asami1997@gmail.com'"
            ]
          },
          "metadata": {
            "tags": []
          },
          "execution_count": 20
        }
      ]
    },
    {
      "cell_type": "code",
      "metadata": {
        "id": "kvfLYV1r2R5n",
        "colab_type": "code",
        "outputId": "c8f431ab-ca8c-46d0-dd70-ef65a99fe48f",
        "colab": {
          "base_uri": "https://localhost:8080/",
          "height": 36
        }
      },
      "source": [
        "z = \"{} example of string substitution\"\n",
        "z.format(\"this is\")"
      ],
      "execution_count": 0,
      "outputs": [
        {
          "output_type": "execute_result",
          "data": {
            "text/plain": [
              "'this is example of string substitution'"
            ]
          },
          "metadata": {
            "tags": []
          },
          "execution_count": 1
        }
      ]
    },
    {
      "cell_type": "code",
      "metadata": {
        "id": "lYnDj_ORVgup",
        "colab_type": "code",
        "outputId": "96b88a04-bcc3-42d8-b30d-d5365ee11821",
        "colab": {
          "base_uri": "https://localhost:8080/",
          "height": 36
        }
      },
      "source": [
        "s = \" i am {0:0.2f}% sure of that\"\n",
        "s.format(100)"
      ],
      "execution_count": 0,
      "outputs": [
        {
          "output_type": "execute_result",
          "data": {
            "text/plain": [
              "' i am 100.00% sure of that'"
            ]
          },
          "metadata": {
            "tags": []
          },
          "execution_count": 4
        }
      ]
    },
    {
      "cell_type": "code",
      "metadata": {
        "id": "_1KhbIYlcmBS",
        "colab_type": "code",
        "outputId": "0bd48292-00b5-4906-ceef-983e1ae6e463",
        "colab": {
          "base_uri": "https://localhost:8080/",
          "height": 36
        }
      },
      "source": [
        "s = \" i am {key:0.2f}% sure of that\"\n",
        "s.format(key = 100)"
      ],
      "execution_count": 0,
      "outputs": [
        {
          "output_type": "execute_result",
          "data": {
            "text/plain": [
              "' i am 100.00% sure of that'"
            ]
          },
          "metadata": {
            "tags": []
          },
          "execution_count": 5
        }
      ]
    },
    {
      "cell_type": "markdown",
      "metadata": {
        "id": "5i7_zzhsiRil",
        "colab_type": "text"
      },
      "source": [
        "Setting the floating point precision value in the notebook using the precision magic command"
      ]
    },
    {
      "cell_type": "code",
      "metadata": {
        "id": "TKhyjclSicYV",
        "colab_type": "code",
        "outputId": "c7a174d6-df9b-45fc-9587-b1f973461b4e",
        "colab": {
          "base_uri": "https://localhost:8080/",
          "height": 36
        }
      },
      "source": [
        "%precision %.2f"
      ],
      "execution_count": 0,
      "outputs": [
        {
          "output_type": "execute_result",
          "data": {
            "text/plain": [
              "'%.2f'"
            ]
          },
          "metadata": {
            "tags": []
          },
          "execution_count": 18
        }
      ]
    },
    {
      "cell_type": "markdown",
      "metadata": {
        "id": "kdvLaebd8eY2",
        "colab_type": "text"
      },
      "source": [
        "Opening a csv file, reading it as dictionary and then adding all the dictionaries as a list in which each dictionary in a list is a sample.\n"
      ]
    },
    {
      "cell_type": "code",
      "metadata": {
        "id": "d69AxEv9dNvO",
        "colab_type": "code",
        "colab": {}
      },
      "source": [
        "import csv"
      ],
      "execution_count": 0,
      "outputs": []
    },
    {
      "cell_type": "code",
      "metadata": {
        "id": "4vaqdirwh_WL",
        "colab_type": "code",
        "outputId": "df87dbef-af37-4e32-e1f1-908f36e79f1a",
        "colab": {
          "base_uri": "https://localhost:8080/",
          "height": 1000
        }
      },
      "source": [
        "with open('car_data.csv') as csvFile:\n",
        "  carList = list(csv.DictReader(csvFile))\n",
        "carList[:3]"
      ],
      "execution_count": 0,
      "outputs": [
        {
          "output_type": "execute_result",
          "data": {
            "text/plain": [
              "[OrderedDict([('', '1'),\n",
              "              ('make', 'alfa-romero'),\n",
              "              ('fuel_type', 'gas'),\n",
              "              ('aspiration', 'std'),\n",
              "              ('num_of_doors', 'two'),\n",
              "              ('body_style', 'convertible'),\n",
              "              ('drive_wheels', 'rwd'),\n",
              "              ('engine_location', 'front'),\n",
              "              ('wheel_base', '88.6'),\n",
              "              ('length', '168.8'),\n",
              "              ('width', '64.1'),\n",
              "              ('height', '48.8'),\n",
              "              ('curb_weight', '2548'),\n",
              "              ('engine_type', 'dohc'),\n",
              "              ('num_of_cylinders', 'four'),\n",
              "              ('engine_size', '130'),\n",
              "              ('fuel_system', 'mpfi'),\n",
              "              ('compression_ratio', '9'),\n",
              "              ('horsepower', '111'),\n",
              "              ('peak_rpm', '5000'),\n",
              "              ('city_mpg', '21'),\n",
              "              ('highway_mpg', '27'),\n",
              "              ('price', '13495')]),\n",
              " OrderedDict([('', '2'),\n",
              "              ('make', 'alfa-romero'),\n",
              "              ('fuel_type', 'gas'),\n",
              "              ('aspiration', 'std'),\n",
              "              ('num_of_doors', 'two'),\n",
              "              ('body_style', 'convertible'),\n",
              "              ('drive_wheels', 'rwd'),\n",
              "              ('engine_location', 'front'),\n",
              "              ('wheel_base', '88.6'),\n",
              "              ('length', '168.8'),\n",
              "              ('width', '64.1'),\n",
              "              ('height', '48.8'),\n",
              "              ('curb_weight', '2548'),\n",
              "              ('engine_type', 'dohc'),\n",
              "              ('num_of_cylinders', 'four'),\n",
              "              ('engine_size', '130'),\n",
              "              ('fuel_system', 'mpfi'),\n",
              "              ('compression_ratio', '9'),\n",
              "              ('horsepower', '111'),\n",
              "              ('peak_rpm', '5000'),\n",
              "              ('city_mpg', '21'),\n",
              "              ('highway_mpg', '27'),\n",
              "              ('price', '16500')]),\n",
              " OrderedDict([('', '3'),\n",
              "              ('make', 'alfa-romero'),\n",
              "              ('fuel_type', 'gas'),\n",
              "              ('aspiration', 'std'),\n",
              "              ('num_of_doors', 'two'),\n",
              "              ('body_style', 'hatchback'),\n",
              "              ('drive_wheels', 'rwd'),\n",
              "              ('engine_location', 'front'),\n",
              "              ('wheel_base', '94.5'),\n",
              "              ('length', '171.2'),\n",
              "              ('width', '65.5'),\n",
              "              ('height', '52.4'),\n",
              "              ('curb_weight', '2823'),\n",
              "              ('engine_type', 'ohcv'),\n",
              "              ('num_of_cylinders', 'six'),\n",
              "              ('engine_size', '152'),\n",
              "              ('fuel_system', 'mpfi'),\n",
              "              ('compression_ratio', '9'),\n",
              "              ('horsepower', '154'),\n",
              "              ('peak_rpm', '5000'),\n",
              "              ('city_mpg', '19'),\n",
              "              ('highway_mpg', '26'),\n",
              "              ('price', '16500')])]"
            ]
          },
          "metadata": {
            "tags": []
          },
          "execution_count": 9
        }
      ]
    },
    {
      "cell_type": "code",
      "metadata": {
        "id": "HZ36-TWIb5vR",
        "colab_type": "code",
        "outputId": "de86638a-0aeb-44c7-dc4b-26fac00a8e66",
        "colab": {
          "base_uri": "https://localhost:8080/",
          "height": 36
        }
      },
      "source": [
        "len(carList)"
      ],
      "execution_count": 0,
      "outputs": [
        {
          "output_type": "execute_result",
          "data": {
            "text/plain": [
              "205"
            ]
          },
          "metadata": {
            "tags": []
          },
          "execution_count": 10
        }
      ]
    },
    {
      "cell_type": "code",
      "metadata": {
        "id": "mYJKztpIb7Ah",
        "colab_type": "code",
        "outputId": "00da50c0-5f8e-48bb-a669-76a7e495f0bc",
        "colab": {
          "base_uri": "https://localhost:8080/",
          "height": 56
        }
      },
      "source": [
        "carList[0].keys()"
      ],
      "execution_count": 0,
      "outputs": [
        {
          "output_type": "execute_result",
          "data": {
            "text/plain": [
              "odict_keys(['', 'make', 'fuel_type', 'aspiration', 'num_of_doors', 'body_style', 'drive_wheels', 'engine_location', 'wheel_base', 'length', 'width', 'height', 'curb_weight', 'engine_type', 'num_of_cylinders', 'engine_size', 'fuel_system', 'compression_ratio', 'horsepower', 'peak_rpm', 'city_mpg', 'highway_mpg', 'price'])"
            ]
          },
          "metadata": {
            "tags": []
          },
          "execution_count": 11
        }
      ]
    },
    {
      "cell_type": "code",
      "metadata": {
        "id": "texmDWZjcO_E",
        "colab_type": "code",
        "outputId": "243ab563-4dfe-4c7f-e61a-d914a577312b",
        "colab": {
          "base_uri": "https://localhost:8080/",
          "height": 56
        }
      },
      "source": [
        "carList[0].values()"
      ],
      "execution_count": 0,
      "outputs": [
        {
          "output_type": "execute_result",
          "data": {
            "text/plain": [
              "odict_values(['1', 'alfa-romero', 'gas', 'std', 'two', 'convertible', 'rwd', 'front', '88.6', '168.8', '64.1', '48.8', '2548', 'dohc', 'four', '130', 'mpfi', '9', '111', '5000', '21', '27', '13495'])"
            ]
          },
          "metadata": {
            "tags": []
          },
          "execution_count": 12
        }
      ]
    },
    {
      "cell_type": "markdown",
      "metadata": {
        "id": "se3wE4s0d0nu",
        "colab_type": "text"
      },
      "source": [
        "simpilfied loop , the value of every iteration is added. Loops throught the list of dictionaries and adds up the city_mpg. converts the value to int"
      ]
    },
    {
      "cell_type": "code",
      "metadata": {
        "id": "KF3qNUFfcSz2",
        "colab_type": "code",
        "outputId": "f9fe6c4c-5f6e-4f16-9d30-451a6fe8e8d3",
        "colab": {
          "base_uri": "https://localhost:8080/",
          "height": 36
        }
      },
      "source": [
        "sum(int(car['city_mpg']) for car in carList)"
      ],
      "execution_count": 0,
      "outputs": [
        {
          "output_type": "execute_result",
          "data": {
            "text/plain": [
              "5170"
            ]
          },
          "metadata": {
            "tags": []
          },
          "execution_count": 15
        }
      ]
    },
    {
      "cell_type": "markdown",
      "metadata": {
        "id": "U48X0N9ugcCH",
        "colab_type": "text"
      },
      "source": [
        "The set function function returns a list of unique values. The function below will return a set of all the fuel types in our list of dictionaries\n"
      ]
    },
    {
      "cell_type": "code",
      "metadata": {
        "id": "txSKqxmxfS6R",
        "colab_type": "code",
        "outputId": "1e3d5e8d-ac85-4eda-cb45-4e9e0c3fe876",
        "colab": {
          "base_uri": "https://localhost:8080/",
          "height": 36
        }
      },
      "source": [
        "set(car['fuel_type'] for car in carList)"
      ],
      "execution_count": 0,
      "outputs": [
        {
          "output_type": "execute_result",
          "data": {
            "text/plain": [
              "{'diesel', 'gas'}"
            ]
          },
          "metadata": {
            "tags": []
          },
          "execution_count": 17
        }
      ]
    },
    {
      "cell_type": "code",
      "metadata": {
        "id": "_Vuh3Jp-h7qG",
        "colab_type": "code",
        "colab": {}
      },
      "source": [
        "import time"
      ],
      "execution_count": 0,
      "outputs": []
    },
    {
      "cell_type": "markdown",
      "metadata": {
        "id": "O8znQnuQtbVd",
        "colab_type": "text"
      },
      "source": [
        "UNIX TimeStamp"
      ]
    },
    {
      "cell_type": "code",
      "metadata": {
        "id": "MIFlvA3LtV8P",
        "colab_type": "code",
        "outputId": "09963e55-35ad-460a-c958-8d84537e3e13",
        "colab": {
          "base_uri": "https://localhost:8080/",
          "height": 36
        }
      },
      "source": [
        "time.time()"
      ],
      "execution_count": 0,
      "outputs": [
        {
          "output_type": "execute_result",
          "data": {
            "text/plain": [
              "1587153331.17"
            ]
          },
          "metadata": {
            "tags": []
          },
          "execution_count": 21
        }
      ]
    },
    {
      "cell_type": "markdown",
      "metadata": {
        "id": "J-G2zGLEtuoV",
        "colab_type": "text"
      },
      "source": [
        "converting the runnting total seconds to a timestamp"
      ]
    },
    {
      "cell_type": "code",
      "metadata": {
        "id": "I4Myl8oQteJg",
        "colab_type": "code",
        "colab": {}
      },
      "source": [
        "import datetime as dt"
      ],
      "execution_count": 0,
      "outputs": []
    },
    {
      "cell_type": "code",
      "metadata": {
        "id": "kmHIbtvet6er",
        "colab_type": "code",
        "colab": {}
      },
      "source": [
        "timestamp = dt.datetime.fromtimestamp(time.time())"
      ],
      "execution_count": 0,
      "outputs": []
    },
    {
      "cell_type": "code",
      "metadata": {
        "id": "SxXESV4xuGOJ",
        "colab_type": "code",
        "outputId": "042b0ea6-1ff5-4e1b-b59c-700968afd4db",
        "colab": {
          "base_uri": "https://localhost:8080/",
          "height": 36
        }
      },
      "source": [
        "timestamp.year"
      ],
      "execution_count": 0,
      "outputs": [
        {
          "output_type": "execute_result",
          "data": {
            "text/plain": [
              "2020"
            ]
          },
          "metadata": {
            "tags": []
          },
          "execution_count": 25
        }
      ]
    },
    {
      "cell_type": "code",
      "metadata": {
        "id": "8uRWipxcugWQ",
        "colab_type": "code",
        "colab": {}
      },
      "source": [
        "class testCalss:\n",
        "  #instance variables\n",
        "  brand = \"Nike\"\n",
        "\n",
        "  def changeBrandName(self,name):\n",
        "    self.brand = name"
      ],
      "execution_count": 0,
      "outputs": []
    },
    {
      "cell_type": "markdown",
      "metadata": {
        "id": "kyFZ1UmctoIh",
        "colab_type": "text"
      },
      "source": [
        "Some functional programming concepts in python, Map function (Higher Order Functions)"
      ]
    },
    {
      "cell_type": "code",
      "metadata": {
        "id": "8PBHNmFupO2b",
        "colab_type": "code",
        "outputId": "173743d0-bf9b-48a6-a78d-0cfc57c0c86a",
        "colab": {
          "base_uri": "https://localhost:8080/",
          "height": 36
        }
      },
      "source": [
        "People = ['Ahmad Sami','Arnold Schwarzenegger']\n",
        "\n",
        "def split_name(name):\n",
        "  firstName = name.split(' ')[0]\n",
        "  lastName - name.split(' ')[-1]\n",
        "  \n",
        "  return '{} {}'.format(firstName,lastName)\n",
        "\n",
        "map(split_name,People)"
      ],
      "execution_count": 2,
      "outputs": [
        {
          "output_type": "execute_result",
          "data": {
            "text/plain": [
              "<map at 0x7f503d4dc1d0>"
            ]
          },
          "metadata": {
            "tags": []
          },
          "execution_count": 2
        }
      ]
    },
    {
      "cell_type": "markdown",
      "metadata": {
        "id": "rAXQsFrbB2DT",
        "colab_type": "text"
      },
      "source": [
        "Lambda Functions. Structute : Keyword Lambda followed by the list of argument, colon , then the expression."
      ]
    },
    {
      "cell_type": "code",
      "metadata": {
        "id": "yVvmgivhvT0W",
        "colab_type": "code",
        "colab": {}
      },
      "source": [
        "my_function = lambda a,b,c : a + b + c"
      ],
      "execution_count": 0,
      "outputs": []
    },
    {
      "cell_type": "code",
      "metadata": {
        "id": "CnuUecmACW5g",
        "colab_type": "code",
        "colab": {
          "base_uri": "https://localhost:8080/",
          "height": 36
        },
        "outputId": "25dd794f-3de7-4936-e679-f48559c06fd4"
      },
      "source": [
        "my_function"
      ],
      "execution_count": 4,
      "outputs": [
        {
          "output_type": "execute_result",
          "data": {
            "text/plain": [
              "<function __main__.<lambda>>"
            ]
          },
          "metadata": {
            "tags": []
          },
          "execution_count": 4
        }
      ]
    },
    {
      "cell_type": "code",
      "metadata": {
        "id": "Yl0-PDP9CYl_",
        "colab_type": "code",
        "colab": {
          "base_uri": "https://localhost:8080/",
          "height": 174
        },
        "outputId": "3340d3ba-3f72-4e16-af08-681b85390720"
      },
      "source": [
        "my_function()"
      ],
      "execution_count": 5,
      "outputs": [
        {
          "output_type": "error",
          "ename": "TypeError",
          "evalue": "ignored",
          "traceback": [
            "\u001b[0;31m---------------------------------------------------------------------------\u001b[0m",
            "\u001b[0;31mTypeError\u001b[0m                                 Traceback (most recent call last)",
            "\u001b[0;32m<ipython-input-5-7bebf01be998>\u001b[0m in \u001b[0;36m<module>\u001b[0;34m()\u001b[0m\n\u001b[0;32m----> 1\u001b[0;31m \u001b[0mmy_function\u001b[0m\u001b[0;34m(\u001b[0m\u001b[0;34m)\u001b[0m\u001b[0;34m\u001b[0m\u001b[0;34m\u001b[0m\u001b[0m\n\u001b[0m",
            "\u001b[0;31mTypeError\u001b[0m: <lambda>() missing 3 required positional arguments: 'a', 'b', and 'c'"
          ]
        }
      ]
    },
    {
      "cell_type": "code",
      "metadata": {
        "id": "5TL6ql-eCb0G",
        "colab_type": "code",
        "colab": {
          "base_uri": "https://localhost:8080/",
          "height": 36
        },
        "outputId": "d012ecad-f27c-4b16-cd26-5c4983d5d78f"
      },
      "source": [
        "my_function(1,2,3)"
      ],
      "execution_count": 6,
      "outputs": [
        {
          "output_type": "execute_result",
          "data": {
            "text/plain": [
              "6"
            ]
          },
          "metadata": {
            "tags": []
          },
          "execution_count": 6
        }
      ]
    },
    {
      "cell_type": "markdown",
      "metadata": {
        "id": "ee9mp1kHLBD3",
        "colab_type": "text"
      },
      "source": [
        "List Comprehensions, structure : value you want to insert , loop , then condition\n",
        "\n",
        "> Indented block\n",
        "\n"
      ]
    },
    {
      "cell_type": "code",
      "metadata": {
        "id": "u88J0eDaCgF5",
        "colab_type": "code",
        "colab": {}
      },
      "source": [
        "my_list = [number for number in [1,3,4] if number == 3]"
      ],
      "execution_count": 0,
      "outputs": []
    },
    {
      "cell_type": "code",
      "metadata": {
        "id": "yZjS1zu2Lu2L",
        "colab_type": "code",
        "colab": {
          "base_uri": "https://localhost:8080/",
          "height": 36
        },
        "outputId": "d3010d54-c0f0-4ea9-8643-46ba33285d79"
      },
      "source": [
        "my_list"
      ],
      "execution_count": 11,
      "outputs": [
        {
          "output_type": "execute_result",
          "data": {
            "text/plain": [
              "[3]"
            ]
          },
          "metadata": {
            "tags": []
          },
          "execution_count": 11
        }
      ]
    },
    {
      "cell_type": "markdown",
      "metadata": {
        "id": "vWaUoqwiMm-U",
        "colab_type": "text"
      },
      "source": [
        "Nested for loop in list comprehension\n"
      ]
    },
    {
      "cell_type": "code",
      "metadata": {
        "id": "EsReBKhGLwec",
        "colab_type": "code",
        "colab": {}
      },
      "source": [
        "times_tables = [i*j for i in range(10) for j in range(10)]"
      ],
      "execution_count": 0,
      "outputs": []
    },
    {
      "cell_type": "code",
      "metadata": {
        "id": "lJpHkJb6Mw0F",
        "colab_type": "code",
        "colab": {
          "base_uri": "https://localhost:8080/",
          "height": 1000
        },
        "outputId": "a0b20c41-a764-47b5-d307-1789986a346f"
      },
      "source": [
        "times_tables"
      ],
      "execution_count": 13,
      "outputs": [
        {
          "output_type": "execute_result",
          "data": {
            "text/plain": [
              "[0,\n",
              " 0,\n",
              " 0,\n",
              " 0,\n",
              " 0,\n",
              " 0,\n",
              " 0,\n",
              " 0,\n",
              " 0,\n",
              " 0,\n",
              " 0,\n",
              " 1,\n",
              " 2,\n",
              " 3,\n",
              " 4,\n",
              " 5,\n",
              " 6,\n",
              " 7,\n",
              " 8,\n",
              " 9,\n",
              " 0,\n",
              " 2,\n",
              " 4,\n",
              " 6,\n",
              " 8,\n",
              " 10,\n",
              " 12,\n",
              " 14,\n",
              " 16,\n",
              " 18,\n",
              " 0,\n",
              " 3,\n",
              " 6,\n",
              " 9,\n",
              " 12,\n",
              " 15,\n",
              " 18,\n",
              " 21,\n",
              " 24,\n",
              " 27,\n",
              " 0,\n",
              " 4,\n",
              " 8,\n",
              " 12,\n",
              " 16,\n",
              " 20,\n",
              " 24,\n",
              " 28,\n",
              " 32,\n",
              " 36,\n",
              " 0,\n",
              " 5,\n",
              " 10,\n",
              " 15,\n",
              " 20,\n",
              " 25,\n",
              " 30,\n",
              " 35,\n",
              " 40,\n",
              " 45,\n",
              " 0,\n",
              " 6,\n",
              " 12,\n",
              " 18,\n",
              " 24,\n",
              " 30,\n",
              " 36,\n",
              " 42,\n",
              " 48,\n",
              " 54,\n",
              " 0,\n",
              " 7,\n",
              " 14,\n",
              " 21,\n",
              " 28,\n",
              " 35,\n",
              " 42,\n",
              " 49,\n",
              " 56,\n",
              " 63,\n",
              " 0,\n",
              " 8,\n",
              " 16,\n",
              " 24,\n",
              " 32,\n",
              " 40,\n",
              " 48,\n",
              " 56,\n",
              " 64,\n",
              " 72,\n",
              " 0,\n",
              " 9,\n",
              " 18,\n",
              " 27,\n",
              " 36,\n",
              " 45,\n",
              " 54,\n",
              " 63,\n",
              " 72,\n",
              " 81]"
            ]
          },
          "metadata": {
            "tags": []
          },
          "execution_count": 13
        }
      ]
    },
    {
      "cell_type": "markdown",
      "metadata": {
        "id": "8qTCIsq5TEPh",
        "colab_type": "text"
      },
      "source": [
        "Numpy Arrays\n",
        "\n"
      ]
    },
    {
      "cell_type": "code",
      "metadata": {
        "id": "yHZkxWxzTFKK",
        "colab_type": "code",
        "colab": {}
      },
      "source": [
        "import numpy as np"
      ],
      "execution_count": 0,
      "outputs": []
    },
    {
      "cell_type": "code",
      "metadata": {
        "id": "nH2e6X5lTJK1",
        "colab_type": "code",
        "colab": {}
      },
      "source": [
        "array_1 = np.array([1,2,3])"
      ],
      "execution_count": 0,
      "outputs": []
    },
    {
      "cell_type": "code",
      "metadata": {
        "id": "zSsibrB6m-jM",
        "colab_type": "code",
        "colab": {
          "base_uri": "https://localhost:8080/",
          "height": 36
        },
        "outputId": "ea6d209d-0d9e-4bfa-d721-42f9076b2d60"
      },
      "source": [
        "array_1"
      ],
      "execution_count": 19,
      "outputs": [
        {
          "output_type": "execute_result",
          "data": {
            "text/plain": [
              "array([1, 2, 3])"
            ]
          },
          "metadata": {
            "tags": []
          },
          "execution_count": 19
        }
      ]
    },
    {
      "cell_type": "markdown",
      "metadata": {
        "id": "1WfzThJjnG3t",
        "colab_type": "text"
      },
      "source": [
        "Multidimensional Arrays (Matrices)"
      ]
    },
    {
      "cell_type": "code",
      "metadata": {
        "id": "zng5VcUnnDpu",
        "colab_type": "code",
        "colab": {}
      },
      "source": [
        "Two_dimensional_Array = np.array([[1,2,3,4],[5,6,7,8]])"
      ],
      "execution_count": 0,
      "outputs": []
    },
    {
      "cell_type": "code",
      "metadata": {
        "id": "CLO9WBNynZ78",
        "colab_type": "code",
        "colab": {
          "base_uri": "https://localhost:8080/",
          "height": 54
        },
        "outputId": "8d57d4ec-3a78-48b1-b66f-5e624b30aaf6"
      },
      "source": [
        "Two_dimensional_Array"
      ],
      "execution_count": 26,
      "outputs": [
        {
          "output_type": "execute_result",
          "data": {
            "text/plain": [
              "array([[1, 2, 3, 4],\n",
              "       [5, 6, 7, 8]])"
            ]
          },
          "metadata": {
            "tags": []
          },
          "execution_count": 26
        }
      ]
    },
    {
      "cell_type": "code",
      "metadata": {
        "id": "PCb_R7VjnnvY",
        "colab_type": "code",
        "colab": {}
      },
      "source": [
        ""
      ],
      "execution_count": 0,
      "outputs": []
    }
  ]
}