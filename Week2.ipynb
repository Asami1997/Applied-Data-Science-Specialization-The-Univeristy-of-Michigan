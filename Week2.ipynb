{
  "nbformat": 4,
  "nbformat_minor": 0,
  "metadata": {
    "colab": {
      "name": "Untitled1.ipynb",
      "provenance": [],
      "authorship_tag": "ABX9TyN1/fmUu9oD2IoFHEeYftgh",
      "include_colab_link": true
    },
    "kernelspec": {
      "name": "python3",
      "display_name": "Python 3"
    }
  },
  "cells": [
    {
      "cell_type": "markdown",
      "metadata": {
        "id": "view-in-github",
        "colab_type": "text"
      },
      "source": [
        "<a href=\"https://colab.research.google.com/github/Asami1997/Applied-Data-Science-Specialization-The-University-of-Michigan/blob/master/Week2.ipynb\" target=\"_parent\"><img src=\"https://colab.research.google.com/assets/colab-badge.svg\" alt=\"Open In Colab\"/></a>"
      ]
    },
    {
      "cell_type": "code",
      "metadata": {
        "id": "dFA9J9dY1eRL",
        "colab_type": "code",
        "colab": {}
      },
      "source": [
        "import pandas as pd\n",
        "pd.Series?"
      ],
      "execution_count": 0,
      "outputs": []
    },
    {
      "cell_type": "code",
      "metadata": {
        "id": "rQLwt5SUAGyp",
        "colab_type": "code",
        "outputId": "2e5e45e2-711c-4943-c6d2-e9169862e153",
        "colab": {
          "base_uri": "https://localhost:8080/",
          "height": 92
        }
      },
      "source": [
        "animals = ['Owl','Fish','Camel']\n",
        "pd.Series(animals)"
      ],
      "execution_count": 0,
      "outputs": [
        {
          "output_type": "execute_result",
          "data": {
            "text/plain": [
              "0      Owl\n",
              "1     Fish\n",
              "2    Camel\n",
              "dtype: object"
            ]
          },
          "metadata": {
            "tags": []
          },
          "execution_count": 3
        }
      ]
    },
    {
      "cell_type": "code",
      "metadata": {
        "id": "4bn_zMAfAzAQ",
        "colab_type": "code",
        "colab": {}
      },
      "source": [
        "numbers = [1,2,3]"
      ],
      "execution_count": 0,
      "outputs": []
    },
    {
      "cell_type": "code",
      "metadata": {
        "id": "yvx2XKmMA1Dk",
        "colab_type": "code",
        "outputId": "78e69f4b-6c40-421a-dace-6630b678db01",
        "colab": {
          "base_uri": "https://localhost:8080/",
          "height": 92
        }
      },
      "source": [
        "pd.Series(numbers)"
      ],
      "execution_count": 0,
      "outputs": [
        {
          "output_type": "execute_result",
          "data": {
            "text/plain": [
              "0    1\n",
              "1    2\n",
              "2    3\n",
              "dtype: int64"
            ]
          },
          "metadata": {
            "tags": []
          },
          "execution_count": 6
        }
      ]
    },
    {
      "cell_type": "code",
      "metadata": {
        "id": "BrJXk-x3DQ20",
        "colab_type": "code",
        "colab": {}
      },
      "source": [
        "x = ['random',None]"
      ],
      "execution_count": 0,
      "outputs": []
    },
    {
      "cell_type": "code",
      "metadata": {
        "id": "BbPTZe6qDaYd",
        "colab_type": "code",
        "outputId": "b3c534a5-58d8-4c52-9e31-23ea5f3b7926",
        "colab": {
          "base_uri": "https://localhost:8080/",
          "height": 73
        }
      },
      "source": [
        "pd.Series(x)"
      ],
      "execution_count": 0,
      "outputs": [
        {
          "output_type": "execute_result",
          "data": {
            "text/plain": [
              "0    random\n",
              "1      None\n",
              "dtype: object"
            ]
          },
          "metadata": {
            "tags": []
          },
          "execution_count": 8
        }
      ]
    },
    {
      "cell_type": "code",
      "metadata": {
        "id": "oUbDmzOiDcFk",
        "colab_type": "code",
        "outputId": "6eface43-f460-4071-b17b-1c9c6864fbed",
        "colab": {
          "base_uri": "https://localhost:8080/",
          "height": 110
        }
      },
      "source": [
        "y = [1,2,4,None]\n",
        "pd.Series(y)"
      ],
      "execution_count": 0,
      "outputs": [
        {
          "output_type": "execute_result",
          "data": {
            "text/plain": [
              "0    1.0\n",
              "1    2.0\n",
              "2    4.0\n",
              "3    NaN\n",
              "dtype: float64"
            ]
          },
          "metadata": {
            "tags": []
          },
          "execution_count": 23
        }
      ]
    },
    {
      "cell_type": "code",
      "metadata": {
        "id": "u3pJaA4UDjP1",
        "colab_type": "code",
        "outputId": "2fa2724c-93c6-450d-d702-f7a4b877d855",
        "colab": {
          "base_uri": "https://localhost:8080/",
          "height": 36
        }
      },
      "source": [
        "import numpy as np\n",
        "np.nan == np.nan"
      ],
      "execution_count": 0,
      "outputs": [
        {
          "output_type": "execute_result",
          "data": {
            "text/plain": [
              "False"
            ]
          },
          "metadata": {
            "tags": []
          },
          "execution_count": 11
        }
      ]
    },
    {
      "cell_type": "code",
      "metadata": {
        "id": "pv-MybiVD3qN",
        "colab_type": "code",
        "outputId": "68f69dc0-2bd4-44a2-f5c6-9e1963cf4761",
        "colab": {
          "base_uri": "https://localhost:8080/",
          "height": 36
        }
      },
      "source": [
        "np.isnan(y)"
      ],
      "execution_count": 0,
      "outputs": [
        {
          "output_type": "execute_result",
          "data": {
            "text/plain": [
              "array([False, False, False,  True])"
            ]
          },
          "metadata": {
            "tags": []
          },
          "execution_count": 22
        }
      ]
    },
    {
      "cell_type": "code",
      "metadata": {
        "id": "TovsukbKEMTe",
        "colab_type": "code",
        "colab": {}
      },
      "source": [
        "info = {'email':'asami1997@gmail.com','name' : 'Ahmad'}"
      ],
      "execution_count": 0,
      "outputs": []
    },
    {
      "cell_type": "code",
      "metadata": {
        "id": "Q1VvKhzfKvgv",
        "colab_type": "code",
        "colab": {}
      },
      "source": [
        "f = pd.Series(info)"
      ],
      "execution_count": 0,
      "outputs": []
    },
    {
      "cell_type": "code",
      "metadata": {
        "id": "6ij7XdA2LFIA",
        "colab_type": "code",
        "outputId": "bbd6f740-ce85-4bf5-ae73-d5f9aaf07545",
        "colab": {
          "base_uri": "https://localhost:8080/",
          "height": 73
        }
      },
      "source": [
        "f"
      ],
      "execution_count": 0,
      "outputs": [
        {
          "output_type": "execute_result",
          "data": {
            "text/plain": [
              "email    asami1997@gmail.com\n",
              "name                   Ahmad\n",
              "dtype: object"
            ]
          },
          "metadata": {
            "tags": []
          },
          "execution_count": 28
        }
      ]
    },
    {
      "cell_type": "code",
      "metadata": {
        "id": "tBgH8USbLJw_",
        "colab_type": "code",
        "outputId": "7c9b2ab8-e6ab-426a-90ff-8837f07f72cc",
        "colab": {
          "base_uri": "https://localhost:8080/",
          "height": 36
        }
      },
      "source": [
        "f.index"
      ],
      "execution_count": 0,
      "outputs": [
        {
          "output_type": "execute_result",
          "data": {
            "text/plain": [
              "Index(['email', 'name'], dtype='object')"
            ]
          },
          "metadata": {
            "tags": []
          },
          "execution_count": 29
        }
      ]
    },
    {
      "cell_type": "markdown",
      "metadata": {
        "id": "a37JwTDcLgTH",
        "colab_type": "text"
      },
      "source": [
        "Passing the index and values explicitly "
      ]
    },
    {
      "cell_type": "code",
      "metadata": {
        "id": "vUKV3s9PLNe2",
        "colab_type": "code",
        "colab": {}
      },
      "source": [
        "d = pd.Series(['asamil997@gmail.com','ahmad'],index=['email','name'])"
      ],
      "execution_count": 0,
      "outputs": []
    },
    {
      "cell_type": "code",
      "metadata": {
        "id": "FNNh5DKSMDB7",
        "colab_type": "code",
        "outputId": "862d2df2-508b-4798-8e10-864eb21a972a",
        "colab": {
          "base_uri": "https://localhost:8080/",
          "height": 73
        }
      },
      "source": [
        "d"
      ],
      "execution_count": 0,
      "outputs": [
        {
          "output_type": "execute_result",
          "data": {
            "text/plain": [
              "email    asamil997@gmail.com\n",
              "name                   ahmad\n",
              "dtype: object"
            ]
          },
          "metadata": {
            "tags": []
          },
          "execution_count": 36
        }
      ]
    },
    {
      "cell_type": "markdown",
      "metadata": {
        "id": "dTAs9NwybFm_",
        "colab_type": "text"
      },
      "source": [
        "Quering Series"
      ]
    },
    {
      "cell_type": "code",
      "metadata": {
        "id": "y3jOplvuMDxZ",
        "colab_type": "code",
        "colab": {}
      },
      "source": [
        "sports = {'Football':'UK',\n",
        "          'Cricket' : 'Pakistan'}"
      ],
      "execution_count": 0,
      "outputs": []
    },
    {
      "cell_type": "code",
      "metadata": {
        "id": "187klclqbUSk",
        "colab_type": "code",
        "colab": {}
      },
      "source": [
        "s = pd.Series(sports)"
      ],
      "execution_count": 0,
      "outputs": []
    },
    {
      "cell_type": "code",
      "metadata": {
        "id": "3gzNXxVVbkey",
        "colab_type": "code",
        "colab": {
          "base_uri": "https://localhost:8080/",
          "height": 36
        },
        "outputId": "9c2164c4-82ce-4732-ed8f-b46addbd401d"
      },
      "source": [
        "s.iloc[1]"
      ],
      "execution_count": 8,
      "outputs": [
        {
          "output_type": "execute_result",
          "data": {
            "text/plain": [
              "'Pakistan'"
            ]
          },
          "metadata": {
            "tags": []
          },
          "execution_count": 8
        }
      ]
    },
    {
      "cell_type": "code",
      "metadata": {
        "id": "-J6B2sn9boQl",
        "colab_type": "code",
        "colab": {
          "base_uri": "https://localhost:8080/",
          "height": 36
        },
        "outputId": "8374660a-852d-4921-ad17-4a07917ab90a"
      },
      "source": [
        "s.loc['Football']"
      ],
      "execution_count": 10,
      "outputs": [
        {
          "output_type": "execute_result",
          "data": {
            "text/plain": [
              "'UK'"
            ]
          },
          "metadata": {
            "tags": []
          },
          "execution_count": 10
        }
      ]
    },
    {
      "cell_type": "code",
      "metadata": {
        "id": "-Xkaxv3nb0uV",
        "colab_type": "code",
        "colab": {}
      },
      "source": [
        "import numpy as np"
      ],
      "execution_count": 0,
      "outputs": []
    },
    {
      "cell_type": "code",
      "metadata": {
        "id": "0hVGMmo1fIMv",
        "colab_type": "code",
        "colab": {}
      },
      "source": [
        "x = np.random.randint(0,100,1000)"
      ],
      "execution_count": 0,
      "outputs": []
    },
    {
      "cell_type": "code",
      "metadata": {
        "id": "QoCEqRwFfWcP",
        "colab_type": "code",
        "colab": {}
      },
      "source": [
        "x_series = pd.Series(x)"
      ],
      "execution_count": 0,
      "outputs": []
    },
    {
      "cell_type": "code",
      "metadata": {
        "id": "VMzVhtRjfbrM",
        "colab_type": "code",
        "colab": {
          "base_uri": "https://localhost:8080/",
          "height": 36
        },
        "outputId": "3cad37d5-a680-42cd-ade5-df1b095b7106"
      },
      "source": [
        "np.sum(x_series)"
      ],
      "execution_count": 14,
      "outputs": [
        {
          "output_type": "execute_result",
          "data": {
            "text/plain": [
              "37"
            ]
          },
          "metadata": {
            "tags": []
          },
          "execution_count": 14
        }
      ]
    },
    {
      "cell_type": "markdown",
      "metadata": {
        "id": "ZW3W0nymgIqL",
        "colab_type": "text"
      },
      "source": [
        "using the timeit cell maginc command"
      ]
    },
    {
      "cell_type": "code",
      "metadata": {
        "id": "HykZ2hQ4fend",
        "colab_type": "code",
        "colab": {
          "base_uri": "https://localhost:8080/",
          "height": 36
        },
        "outputId": "130db1e6-0fb5-425b-9c9f-4a1d6ce34c76"
      },
      "source": [
        "%%timeit -n 100\n",
        "total = 0\n",
        "for item in x_series:\n",
        "  total+=item"
      ],
      "execution_count": 21,
      "outputs": [
        {
          "output_type": "stream",
          "text": [
            "100 loops, best of 3: 3.9 µs per loop\n"
          ],
          "name": "stdout"
        }
      ]
    },
    {
      "cell_type": "code",
      "metadata": {
        "id": "kISuceRsgVe7",
        "colab_type": "code",
        "colab": {
          "base_uri": "https://localhost:8080/",
          "height": 36
        },
        "outputId": "41efc6fc-04b9-4da7-e70d-cffa9a8ff935"
      },
      "source": [
        "%%timeit -n 100\n",
        "np.sum(x_series)"
      ],
      "execution_count": 22,
      "outputs": [
        {
          "output_type": "stream",
          "text": [
            "100 loops, best of 3: 87.5 µs per loop\n"
          ],
          "name": "stdout"
        }
      ]
    },
    {
      "cell_type": "markdown",
      "metadata": {
        "id": "nQCvLjGui0sV",
        "colab_type": "text"
      },
      "source": [
        "Broadcasting"
      ]
    },
    {
      "cell_type": "code",
      "metadata": {
        "id": "sG3QUxmLhD50",
        "colab_type": "code",
        "colab": {}
      },
      "source": [
        "x_series += 2"
      ],
      "execution_count": 0,
      "outputs": []
    },
    {
      "cell_type": "code",
      "metadata": {
        "id": "ne2lTfDri_7T",
        "colab_type": "code",
        "colab": {
          "base_uri": "https://localhost:8080/",
          "height": 129
        },
        "outputId": "4b173226-bdd0-4aba-eef9-0b4dec81f12f"
      },
      "source": [
        "x_series.head()"
      ],
      "execution_count": 36,
      "outputs": [
        {
          "output_type": "execute_result",
          "data": {
            "text/plain": [
              "0     7\n",
              "1    16\n",
              "2    37\n",
              "3    34\n",
              "4    97\n",
              "dtype: int64"
            ]
          },
          "metadata": {
            "tags": []
          },
          "execution_count": 36
        }
      ]
    },
    {
      "cell_type": "code",
      "metadata": {
        "id": "P3mNFytIjDb0",
        "colab_type": "code",
        "colab": {
          "base_uri": "https://localhost:8080/",
          "height": 36
        },
        "outputId": "05314506-69fe-41dd-d939-8013de38cca0"
      },
      "source": [
        ""
      ],
      "execution_count": 30,
      "outputs": [
        {
          "output_type": "stream",
          "text": [
            "94\n"
          ],
          "name": "stdout"
        }
      ]
    },
    {
      "cell_type": "code",
      "metadata": {
        "id": "u_5aF-awjLuI",
        "colab_type": "code",
        "colab": {
          "base_uri": "https://localhost:8080/",
          "height": 36
        },
        "outputId": "5623e224-a876-4436-adf9-5ec7841d35f8"
      },
      "source": [
        "x_series.size"
      ],
      "execution_count": 40,
      "outputs": [
        {
          "output_type": "execute_result",
          "data": {
            "text/plain": [
              "1000"
            ]
          },
          "metadata": {
            "tags": []
          },
          "execution_count": 40
        }
      ]
    },
    {
      "cell_type": "markdown",
      "metadata": {
        "id": "zXcnlUnJpxTr",
        "colab_type": "text"
      },
      "source": [
        "adding new values using loc ( index 1000 dose not exist)"
      ]
    },
    {
      "cell_type": "code",
      "metadata": {
        "id": "BmnXsN1PlS-d",
        "colab_type": "code",
        "colab": {}
      },
      "source": [
        "x_series.loc[1000] = 7"
      ],
      "execution_count": 0,
      "outputs": []
    },
    {
      "cell_type": "markdown",
      "metadata": {
        "id": "NFZhAIq-p26x",
        "colab_type": "text"
      },
      "source": [
        "Mixed types of indecies and labels."
      ]
    },
    {
      "cell_type": "code",
      "metadata": {
        "id": "fiF1FZIjlpMQ",
        "colab_type": "code",
        "colab": {}
      },
      "source": [
        "z = pd.Series([9,'x'],index = [100,'Name'])"
      ],
      "execution_count": 0,
      "outputs": []
    },
    {
      "cell_type": "code",
      "metadata": {
        "id": "0zk9frfMmVh2",
        "colab_type": "code",
        "colab": {
          "base_uri": "https://localhost:8080/",
          "height": 73
        },
        "outputId": "438fca48-7a7d-49d6-f4c3-3d31b6823234"
      },
      "source": [
        "z"
      ],
      "execution_count": 46,
      "outputs": [
        {
          "output_type": "execute_result",
          "data": {
            "text/plain": [
              "100     9\n",
              "Name    x\n",
              "dtype: object"
            ]
          },
          "metadata": {
            "tags": []
          },
          "execution_count": 46
        }
      ]
    },
    {
      "cell_type": "code",
      "metadata": {
        "id": "APOwc-G7mWFT",
        "colab_type": "code",
        "colab": {}
      },
      "source": [
        ""
      ],
      "execution_count": 0,
      "outputs": []
    }
  ]
}